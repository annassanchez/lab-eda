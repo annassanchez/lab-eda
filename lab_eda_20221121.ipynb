{
 "cells": [
  {
   "cell_type": "code",
   "execution_count": 1,
   "metadata": {},
   "outputs": [],
   "source": [
    "import pandas as pd\n",
    "import numpy as np\n",
    "pd.options.display.max_columns = None"
   ]
  },
  {
   "cell_type": "markdown",
   "metadata": {},
   "source": [
    "# data input\n",
    "- mis fuentes:\n",
    "  \n",
    "https://www.kaggle.com/datasets/fcpercival/160k-spotify-songs-sorted?resource=download&select=data.csv\n",
    "\n",
    "https://www.kaggle.com/datasets/asifsadmine/spotify-playlists-dataset\n",
    "\n",
    "https://developer.spotify.com/documentation/web-api/reference/#/operations/get-audio-features"
   ]
  },
  {
   "cell_type": "code",
   "execution_count": 2,
   "metadata": {},
   "outputs": [
    {
     "data": {
      "text/html": [
       "<div>\n",
       "<style scoped>\n",
       "    .dataframe tbody tr th:only-of-type {\n",
       "        vertical-align: middle;\n",
       "    }\n",
       "\n",
       "    .dataframe tbody tr th {\n",
       "        vertical-align: top;\n",
       "    }\n",
       "\n",
       "    .dataframe thead th {\n",
       "        text-align: right;\n",
       "    }\n",
       "</style>\n",
       "<table border=\"1\" class=\"dataframe\">\n",
       "  <thead>\n",
       "    <tr style=\"text-align: right;\">\n",
       "      <th></th>\n",
       "      <th>id</th>\n",
       "      <th>name</th>\n",
       "      <th>artists</th>\n",
       "      <th>duration_ms</th>\n",
       "      <th>release_date</th>\n",
       "      <th>year</th>\n",
       "      <th>acousticness</th>\n",
       "      <th>danceability</th>\n",
       "      <th>energy</th>\n",
       "      <th>instrumentalness</th>\n",
       "      <th>liveness</th>\n",
       "      <th>loudness</th>\n",
       "      <th>speechiness</th>\n",
       "      <th>tempo</th>\n",
       "      <th>valence</th>\n",
       "      <th>mode</th>\n",
       "      <th>key</th>\n",
       "      <th>popularity</th>\n",
       "      <th>explicit</th>\n",
       "    </tr>\n",
       "  </thead>\n",
       "  <tbody>\n",
       "    <tr>\n",
       "      <th>0</th>\n",
       "      <td>0gNNToCW3qjabgTyBSjt3H</td>\n",
       "      <td>!Que Vida! - Mono Version</td>\n",
       "      <td>['Love']</td>\n",
       "      <td>220560</td>\n",
       "      <td>11/1/66</td>\n",
       "      <td>1966</td>\n",
       "      <td>0.5250</td>\n",
       "      <td>0.600</td>\n",
       "      <td>0.540</td>\n",
       "      <td>0.00305</td>\n",
       "      <td>0.100</td>\n",
       "      <td>-11.803</td>\n",
       "      <td>0.0328</td>\n",
       "      <td>125.898</td>\n",
       "      <td>0.547</td>\n",
       "      <td>1</td>\n",
       "      <td>9</td>\n",
       "      <td>26</td>\n",
       "      <td>0</td>\n",
       "    </tr>\n",
       "    <tr>\n",
       "      <th>1</th>\n",
       "      <td>0tMgFpOrXZR6irEOLNWwJL</td>\n",
       "      <td>\"40\"</td>\n",
       "      <td>['U2']</td>\n",
       "      <td>157840</td>\n",
       "      <td>2/28/83</td>\n",
       "      <td>1983</td>\n",
       "      <td>0.2280</td>\n",
       "      <td>0.368</td>\n",
       "      <td>0.480</td>\n",
       "      <td>0.70700</td>\n",
       "      <td>0.159</td>\n",
       "      <td>-11.605</td>\n",
       "      <td>0.0306</td>\n",
       "      <td>150.166</td>\n",
       "      <td>0.338</td>\n",
       "      <td>1</td>\n",
       "      <td>8</td>\n",
       "      <td>21</td>\n",
       "      <td>0</td>\n",
       "    </tr>\n",
       "    <tr>\n",
       "      <th>2</th>\n",
       "      <td>2ZywW3VyVx6rrlrX75n3JB</td>\n",
       "      <td>\"40\" - Live</td>\n",
       "      <td>['U2']</td>\n",
       "      <td>226200</td>\n",
       "      <td>8/20/83</td>\n",
       "      <td>1983</td>\n",
       "      <td>0.0998</td>\n",
       "      <td>0.272</td>\n",
       "      <td>0.684</td>\n",
       "      <td>0.01450</td>\n",
       "      <td>0.946</td>\n",
       "      <td>-9.728</td>\n",
       "      <td>0.0505</td>\n",
       "      <td>143.079</td>\n",
       "      <td>0.279</td>\n",
       "      <td>1</td>\n",
       "      <td>8</td>\n",
       "      <td>41</td>\n",
       "      <td>0</td>\n",
       "    </tr>\n",
       "    <tr>\n",
       "      <th>3</th>\n",
       "      <td>6DdWA7D1o5TU2kXWyCLcch</td>\n",
       "      <td>\"40\" - Remastered 2008</td>\n",
       "      <td>['U2']</td>\n",
       "      <td>157667</td>\n",
       "      <td>2/28/83</td>\n",
       "      <td>1983</td>\n",
       "      <td>0.1850</td>\n",
       "      <td>0.371</td>\n",
       "      <td>0.545</td>\n",
       "      <td>0.58200</td>\n",
       "      <td>0.183</td>\n",
       "      <td>-9.315</td>\n",
       "      <td>0.0307</td>\n",
       "      <td>150.316</td>\n",
       "      <td>0.310</td>\n",
       "      <td>1</td>\n",
       "      <td>8</td>\n",
       "      <td>37</td>\n",
       "      <td>0</td>\n",
       "    </tr>\n",
       "    <tr>\n",
       "      <th>4</th>\n",
       "      <td>3vMmwsAiLDCfyc1jl76lQE</td>\n",
       "      <td>\"40\" - Remastered 2008</td>\n",
       "      <td>['U2']</td>\n",
       "      <td>157667</td>\n",
       "      <td>2/28/83</td>\n",
       "      <td>1983</td>\n",
       "      <td>0.1850</td>\n",
       "      <td>0.371</td>\n",
       "      <td>0.545</td>\n",
       "      <td>0.58200</td>\n",
       "      <td>0.183</td>\n",
       "      <td>-9.315</td>\n",
       "      <td>0.0307</td>\n",
       "      <td>150.316</td>\n",
       "      <td>0.310</td>\n",
       "      <td>1</td>\n",
       "      <td>8</td>\n",
       "      <td>35</td>\n",
       "      <td>0</td>\n",
       "    </tr>\n",
       "  </tbody>\n",
       "</table>\n",
       "</div>"
      ],
      "text/plain": [
       "                       id                       name   artists  duration_ms  \\\n",
       "0  0gNNToCW3qjabgTyBSjt3H  !Que Vida! - Mono Version  ['Love']       220560   \n",
       "1  0tMgFpOrXZR6irEOLNWwJL                       \"40\"    ['U2']       157840   \n",
       "2  2ZywW3VyVx6rrlrX75n3JB                \"40\" - Live    ['U2']       226200   \n",
       "3  6DdWA7D1o5TU2kXWyCLcch     \"40\" - Remastered 2008    ['U2']       157667   \n",
       "4  3vMmwsAiLDCfyc1jl76lQE     \"40\" - Remastered 2008    ['U2']       157667   \n",
       "\n",
       "  release_date  year  acousticness  danceability  energy  instrumentalness  \\\n",
       "0      11/1/66  1966        0.5250         0.600   0.540           0.00305   \n",
       "1      2/28/83  1983        0.2280         0.368   0.480           0.70700   \n",
       "2      8/20/83  1983        0.0998         0.272   0.684           0.01450   \n",
       "3      2/28/83  1983        0.1850         0.371   0.545           0.58200   \n",
       "4      2/28/83  1983        0.1850         0.371   0.545           0.58200   \n",
       "\n",
       "   liveness  loudness  speechiness    tempo  valence  mode  key  popularity  \\\n",
       "0     0.100   -11.803       0.0328  125.898    0.547     1    9          26   \n",
       "1     0.159   -11.605       0.0306  150.166    0.338     1    8          21   \n",
       "2     0.946    -9.728       0.0505  143.079    0.279     1    8          41   \n",
       "3     0.183    -9.315       0.0307  150.316    0.310     1    8          37   \n",
       "4     0.183    -9.315       0.0307  150.316    0.310     1    8          35   \n",
       "\n",
       "   explicit  \n",
       "0         0  \n",
       "1         0  \n",
       "2         0  \n",
       "3         0  \n",
       "4         0  "
      ]
     },
     "execution_count": 2,
     "metadata": {},
     "output_type": "execute_result"
    }
   ],
   "source": [
    "df = pd.read_csv('datos/data.csv')\n",
    "df.head()"
   ]
  },
  {
   "cell_type": "markdown",
   "metadata": {},
   "source": [
    "# análisis exploratorio\n",
    "mi dataset tiene los siguientes campos:\n",
    "- `id` -- tipo `object`. id único de cada canción para Spotify.\n",
    "- `name` -- tipo `object`. nombre de la canción \n",
    "- `artists` -- tipo `object`. nombre del intérprete, puede tener caracteres de tipo cilírico\n",
    "- `duration_ms` -- tipo `np.int64`. campo numérico, indica la longitud de la canción en ms\n",
    "- `release_date` -- tipo `object`. fecha de publicación del tema. se va a tener que recastear y limpiar para poder homogeneizarlo.\n",
    "- `acousticness` -- tipo `np.float64`. puntúa del 0 al 1 si la canción es acústica. Cuanto mayor sea, más bailable es el tema.\n",
    "- `danceability` -- tipo `np.float64`. puntúa del 0 al 1 si la canción es bailable, basándose en criterios de tempo, ritmo estable, potencia del beat y regularidad. Cuanto mayor el valor, más bailable es el tema.\n",
    "- `energy` -- tipo `np.float64`. puntúa del 0 al 1 si la canción es \"energética\"; se evalua la intensidad y la actividad de la canción, teniendo en cuenta factores como la intensidad y la rapidez del tempo del tema.\n",
    "- `instrumentalness` -- tipo `np.float64`. puntúa del 0 al 1 si se trata de una canción con o sin cantantes. Valores por encima de 0.5 consideran que la pisa es instrumental.\n",
    "- `liveness` -- tipo `np.float64`. puntúa del 0 al 1 si la cancion se trata de una grabación en directo o de estudio. En torno a 0.8 indica que se trata de una pista grabada en directo.\n",
    "- `loudness` -- tipo `np.float64`. indica en decibelios (db) la intensidad sonora de la pista, puntuando la \"potencia\" del sonido. El valor de los decibelios es la media de la pista, pudiendo variar entre -60  0.\n",
    "- `speechiness` -- tipo `np.float64`. puntúa del 0 al 1 la presencia de palabras recitadas en una pista -- según la cantidad de texto hablado que aparece en la pista. A partir del umbral del 0.66 se considera que la pista está compuesta mayormente de palabras recitadas. Si los valores varían entre 0.33 y 0.66 se puede considerar que contiene tanto música como palabras, en secciones o superpuestas, como pueda ser el caso de una canción de rap. Valores por debajo de 0.33 indican que la canción es mayormente instrumental y no-recitada.\n",
    "- `tempo` -- tipo `np.float64`. estimación del tempo de una pista en beats per minute (BPM). En terminología musical, el tempo indica la velocidad de la canción. Puede variar entre 0 a 245BPM.\n",
    "- `valence` -- tipo `np.float64`. valora del 0 al 1 la \"positividad\" que tiene la pista. Canciones con una `valence` alta suenan más positivas (ej. felices, eufóricas, alegres), que canciones con un valor de `valence` inferior que se perciben más negativas (ej. triste, depresivas, enfadada)\n",
    "- `mode` -- tipo `np.int64`. indica el modo de la canción (mayor = 1, menor = 0)\n",
    "- `key` -- tipo `np.int64`. tono en el que está la canción, puntuándolo de 0 a 11, siguiendo la notación indicada aquí: https://en.wikipedia.org/wiki/Pitch_class (Ej. 0 = C, 1 = C#//D♭). Si no se detecta el tono, se considerará el valor -1.\n",
    "- `popularity`  -- tipo `np.int64`. popularidad de la canción\n",
    "- `explicit` -- tipo `np.int64`. indica si la canción tiene o no letras explícitas."
   ]
  },
  {
   "cell_type": "markdown",
   "metadata": {},
   "source": [
    "## primero voy a mirar los tipos de datos que tiene cada columna:"
   ]
  },
  {
   "cell_type": "code",
   "execution_count": 3,
   "metadata": {},
   "outputs": [
    {
     "data": {
      "text/plain": [
       "id                   object\n",
       "name                 object\n",
       "artists              object\n",
       "duration_ms           int64\n",
       "release_date         object\n",
       "year                  int64\n",
       "acousticness        float64\n",
       "danceability        float64\n",
       "energy              float64\n",
       "instrumentalness    float64\n",
       "liveness            float64\n",
       "loudness            float64\n",
       "speechiness         float64\n",
       "tempo               float64\n",
       "valence             float64\n",
       "mode                  int64\n",
       "key                   int64\n",
       "popularity            int64\n",
       "explicit              int64\n",
       "dtype: object"
      ]
     },
     "execution_count": 3,
     "metadata": {},
     "output_type": "execute_result"
    }
   ],
   "source": [
    "df.dtypes"
   ]
  },
  {
   "cell_type": "markdown",
   "metadata": {},
   "source": [
    "todos los campos están bien casteados menos el de fecha, que será corregido a continuación"
   ]
  },
  {
   "cell_type": "markdown",
   "metadata": {},
   "source": [
    "## vamos a ver si el dataframe tuviera algún nulo con el método `info()`"
   ]
  },
  {
   "cell_type": "code",
   "execution_count": 4,
   "metadata": {},
   "outputs": [
    {
     "name": "stdout",
     "output_type": "stream",
     "text": [
      "<class 'pandas.core.frame.DataFrame'>\n",
      "RangeIndex: 169907 entries, 0 to 169906\n",
      "Data columns (total 19 columns):\n",
      " #   Column            Non-Null Count   Dtype  \n",
      "---  ------            --------------   -----  \n",
      " 0   id                169907 non-null  object \n",
      " 1   name              169907 non-null  object \n",
      " 2   artists           169907 non-null  object \n",
      " 3   duration_ms       169907 non-null  int64  \n",
      " 4   release_date      169907 non-null  object \n",
      " 5   year              169907 non-null  int64  \n",
      " 6   acousticness      169907 non-null  float64\n",
      " 7   danceability      169907 non-null  float64\n",
      " 8   energy            169907 non-null  float64\n",
      " 9   instrumentalness  169907 non-null  float64\n",
      " 10  liveness          169907 non-null  float64\n",
      " 11  loudness          169907 non-null  float64\n",
      " 12  speechiness       169907 non-null  float64\n",
      " 13  tempo             169907 non-null  float64\n",
      " 14  valence           169907 non-null  float64\n",
      " 15  mode              169907 non-null  int64  \n",
      " 16  key               169907 non-null  int64  \n",
      " 17  popularity        169907 non-null  int64  \n",
      " 18  explicit          169907 non-null  int64  \n",
      "dtypes: float64(9), int64(6), object(4)\n",
      "memory usage: 24.6+ MB\n"
     ]
    }
   ],
   "source": [
    "df.info()"
   ]
  },
  {
   "cell_type": "markdown",
   "metadata": {},
   "source": [
    "no parece que ninguna de las columnas tenga duplicados."
   ]
  },
  {
   "cell_type": "markdown",
   "metadata": {},
   "source": [
    "## check de los valores duplicados de df con `duplicated()`"
   ]
  },
  {
   "cell_type": "code",
   "execution_count": 56,
   "metadata": {},
   "outputs": [
    {
     "data": {
      "text/plain": [
       "0"
      ]
     },
     "execution_count": 56,
     "metadata": {},
     "output_type": "execute_result"
    }
   ],
   "source": [
    "df.duplicated(subset = df.columns).sum()"
   ]
  },
  {
   "cell_type": "markdown",
   "metadata": {},
   "source": [
    "## vamos a mirar las estadísticas características de cada una de las columnas mediante `describe()`"
   ]
  },
  {
   "cell_type": "code",
   "execution_count": 5,
   "metadata": {},
   "outputs": [
    {
     "data": {
      "text/html": [
       "<div>\n",
       "<style scoped>\n",
       "    .dataframe tbody tr th:only-of-type {\n",
       "        vertical-align: middle;\n",
       "    }\n",
       "\n",
       "    .dataframe tbody tr th {\n",
       "        vertical-align: top;\n",
       "    }\n",
       "\n",
       "    .dataframe thead th {\n",
       "        text-align: right;\n",
       "    }\n",
       "</style>\n",
       "<table border=\"1\" class=\"dataframe\">\n",
       "  <thead>\n",
       "    <tr style=\"text-align: right;\">\n",
       "      <th></th>\n",
       "      <th>count</th>\n",
       "      <th>unique</th>\n",
       "      <th>top</th>\n",
       "      <th>freq</th>\n",
       "      <th>mean</th>\n",
       "      <th>std</th>\n",
       "      <th>min</th>\n",
       "      <th>25%</th>\n",
       "      <th>50%</th>\n",
       "      <th>75%</th>\n",
       "      <th>max</th>\n",
       "    </tr>\n",
       "  </thead>\n",
       "  <tbody>\n",
       "    <tr>\n",
       "      <th>id</th>\n",
       "      <td>169907</td>\n",
       "      <td>169907</td>\n",
       "      <td>0gNNToCW3qjabgTyBSjt3H</td>\n",
       "      <td>1</td>\n",
       "      <td>NaN</td>\n",
       "      <td>NaN</td>\n",
       "      <td>NaN</td>\n",
       "      <td>NaN</td>\n",
       "      <td>NaN</td>\n",
       "      <td>NaN</td>\n",
       "      <td>NaN</td>\n",
       "    </tr>\n",
       "    <tr>\n",
       "      <th>name</th>\n",
       "      <td>169907</td>\n",
       "      <td>132938</td>\n",
       "      <td>Summertime</td>\n",
       "      <td>62</td>\n",
       "      <td>NaN</td>\n",
       "      <td>NaN</td>\n",
       "      <td>NaN</td>\n",
       "      <td>NaN</td>\n",
       "      <td>NaN</td>\n",
       "      <td>NaN</td>\n",
       "      <td>NaN</td>\n",
       "    </tr>\n",
       "    <tr>\n",
       "      <th>artists</th>\n",
       "      <td>169907</td>\n",
       "      <td>33375</td>\n",
       "      <td>['Эрнест Хемингуэй']</td>\n",
       "      <td>1215</td>\n",
       "      <td>NaN</td>\n",
       "      <td>NaN</td>\n",
       "      <td>NaN</td>\n",
       "      <td>NaN</td>\n",
       "      <td>NaN</td>\n",
       "      <td>NaN</td>\n",
       "      <td>NaN</td>\n",
       "    </tr>\n",
       "    <tr>\n",
       "      <th>duration_ms</th>\n",
       "      <td>169907.0</td>\n",
       "      <td>NaN</td>\n",
       "      <td>NaN</td>\n",
       "      <td>NaN</td>\n",
       "      <td>231407.085988</td>\n",
       "      <td>121322.336392</td>\n",
       "      <td>5108.0</td>\n",
       "      <td>171040.0</td>\n",
       "      <td>208600.0</td>\n",
       "      <td>262966.5</td>\n",
       "      <td>5403500.0</td>\n",
       "    </tr>\n",
       "    <tr>\n",
       "      <th>release_date</th>\n",
       "      <td>169907</td>\n",
       "      <td>10882</td>\n",
       "      <td>1945</td>\n",
       "      <td>1449</td>\n",
       "      <td>NaN</td>\n",
       "      <td>NaN</td>\n",
       "      <td>NaN</td>\n",
       "      <td>NaN</td>\n",
       "      <td>NaN</td>\n",
       "      <td>NaN</td>\n",
       "      <td>NaN</td>\n",
       "    </tr>\n",
       "    <tr>\n",
       "      <th>year</th>\n",
       "      <td>169907.0</td>\n",
       "      <td>NaN</td>\n",
       "      <td>NaN</td>\n",
       "      <td>NaN</td>\n",
       "      <td>1977.223234</td>\n",
       "      <td>25.593318</td>\n",
       "      <td>1921.0</td>\n",
       "      <td>1957.0</td>\n",
       "      <td>1978.0</td>\n",
       "      <td>1999.0</td>\n",
       "      <td>2020.0</td>\n",
       "    </tr>\n",
       "    <tr>\n",
       "      <th>acousticness</th>\n",
       "      <td>169907.0</td>\n",
       "      <td>NaN</td>\n",
       "      <td>NaN</td>\n",
       "      <td>NaN</td>\n",
       "      <td>0.493217</td>\n",
       "      <td>0.376628</td>\n",
       "      <td>0.0</td>\n",
       "      <td>0.0945</td>\n",
       "      <td>0.492</td>\n",
       "      <td>0.888</td>\n",
       "      <td>0.996</td>\n",
       "    </tr>\n",
       "    <tr>\n",
       "      <th>danceability</th>\n",
       "      <td>169907.0</td>\n",
       "      <td>NaN</td>\n",
       "      <td>NaN</td>\n",
       "      <td>NaN</td>\n",
       "      <td>0.538147</td>\n",
       "      <td>0.175345</td>\n",
       "      <td>0.0</td>\n",
       "      <td>0.417</td>\n",
       "      <td>0.548</td>\n",
       "      <td>0.667</td>\n",
       "      <td>0.988</td>\n",
       "    </tr>\n",
       "    <tr>\n",
       "      <th>energy</th>\n",
       "      <td>169907.0</td>\n",
       "      <td>NaN</td>\n",
       "      <td>NaN</td>\n",
       "      <td>NaN</td>\n",
       "      <td>0.488591</td>\n",
       "      <td>0.267391</td>\n",
       "      <td>0.0</td>\n",
       "      <td>0.263</td>\n",
       "      <td>0.481</td>\n",
       "      <td>0.71</td>\n",
       "      <td>1.0</td>\n",
       "    </tr>\n",
       "    <tr>\n",
       "      <th>instrumentalness</th>\n",
       "      <td>169907.0</td>\n",
       "      <td>NaN</td>\n",
       "      <td>NaN</td>\n",
       "      <td>NaN</td>\n",
       "      <td>0.161939</td>\n",
       "      <td>0.30933</td>\n",
       "      <td>0.0</td>\n",
       "      <td>0.0</td>\n",
       "      <td>0.000204</td>\n",
       "      <td>0.0868</td>\n",
       "      <td>1.0</td>\n",
       "    </tr>\n",
       "    <tr>\n",
       "      <th>liveness</th>\n",
       "      <td>169907.0</td>\n",
       "      <td>NaN</td>\n",
       "      <td>NaN</td>\n",
       "      <td>NaN</td>\n",
       "      <td>0.206692</td>\n",
       "      <td>0.176797</td>\n",
       "      <td>0.0</td>\n",
       "      <td>0.0984</td>\n",
       "      <td>0.135</td>\n",
       "      <td>0.263</td>\n",
       "      <td>1.0</td>\n",
       "    </tr>\n",
       "    <tr>\n",
       "      <th>loudness</th>\n",
       "      <td>169907.0</td>\n",
       "      <td>NaN</td>\n",
       "      <td>NaN</td>\n",
       "      <td>NaN</td>\n",
       "      <td>-11.370311</td>\n",
       "      <td>5.666795</td>\n",
       "      <td>-60.0</td>\n",
       "      <td>-14.47</td>\n",
       "      <td>-10.474</td>\n",
       "      <td>-7.118</td>\n",
       "      <td>3.855</td>\n",
       "    </tr>\n",
       "    <tr>\n",
       "      <th>speechiness</th>\n",
       "      <td>169907.0</td>\n",
       "      <td>NaN</td>\n",
       "      <td>NaN</td>\n",
       "      <td>NaN</td>\n",
       "      <td>0.094058</td>\n",
       "      <td>0.149938</td>\n",
       "      <td>0.0</td>\n",
       "      <td>0.0349</td>\n",
       "      <td>0.045</td>\n",
       "      <td>0.0754</td>\n",
       "      <td>0.969</td>\n",
       "    </tr>\n",
       "    <tr>\n",
       "      <th>tempo</th>\n",
       "      <td>169907.0</td>\n",
       "      <td>NaN</td>\n",
       "      <td>NaN</td>\n",
       "      <td>NaN</td>\n",
       "      <td>116.94785</td>\n",
       "      <td>30.727079</td>\n",
       "      <td>0.0</td>\n",
       "      <td>93.516</td>\n",
       "      <td>114.777</td>\n",
       "      <td>135.712</td>\n",
       "      <td>244.091</td>\n",
       "    </tr>\n",
       "    <tr>\n",
       "      <th>valence</th>\n",
       "      <td>169907.0</td>\n",
       "      <td>NaN</td>\n",
       "      <td>NaN</td>\n",
       "      <td>NaN</td>\n",
       "      <td>0.532091</td>\n",
       "      <td>0.262407</td>\n",
       "      <td>0.0</td>\n",
       "      <td>0.322</td>\n",
       "      <td>0.544</td>\n",
       "      <td>0.749</td>\n",
       "      <td>1.0</td>\n",
       "    </tr>\n",
       "    <tr>\n",
       "      <th>mode</th>\n",
       "      <td>169907.0</td>\n",
       "      <td>NaN</td>\n",
       "      <td>NaN</td>\n",
       "      <td>NaN</td>\n",
       "      <td>0.708552</td>\n",
       "      <td>0.454431</td>\n",
       "      <td>0.0</td>\n",
       "      <td>0.0</td>\n",
       "      <td>1.0</td>\n",
       "      <td>1.0</td>\n",
       "      <td>1.0</td>\n",
       "    </tr>\n",
       "    <tr>\n",
       "      <th>key</th>\n",
       "      <td>169907.0</td>\n",
       "      <td>NaN</td>\n",
       "      <td>NaN</td>\n",
       "      <td>NaN</td>\n",
       "      <td>5.200498</td>\n",
       "      <td>3.515272</td>\n",
       "      <td>0.0</td>\n",
       "      <td>2.0</td>\n",
       "      <td>5.0</td>\n",
       "      <td>8.0</td>\n",
       "      <td>11.0</td>\n",
       "    </tr>\n",
       "    <tr>\n",
       "      <th>popularity</th>\n",
       "      <td>169907.0</td>\n",
       "      <td>NaN</td>\n",
       "      <td>NaN</td>\n",
       "      <td>NaN</td>\n",
       "      <td>31.556681</td>\n",
       "      <td>21.58273</td>\n",
       "      <td>0.0</td>\n",
       "      <td>12.0</td>\n",
       "      <td>33.0</td>\n",
       "      <td>48.0</td>\n",
       "      <td>100.0</td>\n",
       "    </tr>\n",
       "    <tr>\n",
       "      <th>explicit</th>\n",
       "      <td>169907.0</td>\n",
       "      <td>NaN</td>\n",
       "      <td>NaN</td>\n",
       "      <td>NaN</td>\n",
       "      <td>0.084864</td>\n",
       "      <td>0.27868</td>\n",
       "      <td>0.0</td>\n",
       "      <td>0.0</td>\n",
       "      <td>0.0</td>\n",
       "      <td>0.0</td>\n",
       "      <td>1.0</td>\n",
       "    </tr>\n",
       "  </tbody>\n",
       "</table>\n",
       "</div>"
      ],
      "text/plain": [
       "                     count  unique                     top  freq  \\\n",
       "id                  169907  169907  0gNNToCW3qjabgTyBSjt3H     1   \n",
       "name                169907  132938              Summertime    62   \n",
       "artists             169907   33375    ['Эрнест Хемингуэй']  1215   \n",
       "duration_ms       169907.0     NaN                     NaN   NaN   \n",
       "release_date        169907   10882                    1945  1449   \n",
       "year              169907.0     NaN                     NaN   NaN   \n",
       "acousticness      169907.0     NaN                     NaN   NaN   \n",
       "danceability      169907.0     NaN                     NaN   NaN   \n",
       "energy            169907.0     NaN                     NaN   NaN   \n",
       "instrumentalness  169907.0     NaN                     NaN   NaN   \n",
       "liveness          169907.0     NaN                     NaN   NaN   \n",
       "loudness          169907.0     NaN                     NaN   NaN   \n",
       "speechiness       169907.0     NaN                     NaN   NaN   \n",
       "tempo             169907.0     NaN                     NaN   NaN   \n",
       "valence           169907.0     NaN                     NaN   NaN   \n",
       "mode              169907.0     NaN                     NaN   NaN   \n",
       "key               169907.0     NaN                     NaN   NaN   \n",
       "popularity        169907.0     NaN                     NaN   NaN   \n",
       "explicit          169907.0     NaN                     NaN   NaN   \n",
       "\n",
       "                           mean            std     min       25%       50%  \\\n",
       "id                          NaN            NaN     NaN       NaN       NaN   \n",
       "name                        NaN            NaN     NaN       NaN       NaN   \n",
       "artists                     NaN            NaN     NaN       NaN       NaN   \n",
       "duration_ms       231407.085988  121322.336392  5108.0  171040.0  208600.0   \n",
       "release_date                NaN            NaN     NaN       NaN       NaN   \n",
       "year                1977.223234      25.593318  1921.0    1957.0    1978.0   \n",
       "acousticness           0.493217       0.376628     0.0    0.0945     0.492   \n",
       "danceability           0.538147       0.175345     0.0     0.417     0.548   \n",
       "energy                 0.488591       0.267391     0.0     0.263     0.481   \n",
       "instrumentalness       0.161939        0.30933     0.0       0.0  0.000204   \n",
       "liveness               0.206692       0.176797     0.0    0.0984     0.135   \n",
       "loudness             -11.370311       5.666795   -60.0    -14.47   -10.474   \n",
       "speechiness            0.094058       0.149938     0.0    0.0349     0.045   \n",
       "tempo                 116.94785      30.727079     0.0    93.516   114.777   \n",
       "valence                0.532091       0.262407     0.0     0.322     0.544   \n",
       "mode                   0.708552       0.454431     0.0       0.0       1.0   \n",
       "key                    5.200498       3.515272     0.0       2.0       5.0   \n",
       "popularity            31.556681       21.58273     0.0      12.0      33.0   \n",
       "explicit               0.084864        0.27868     0.0       0.0       0.0   \n",
       "\n",
       "                       75%        max  \n",
       "id                     NaN        NaN  \n",
       "name                   NaN        NaN  \n",
       "artists                NaN        NaN  \n",
       "duration_ms       262966.5  5403500.0  \n",
       "release_date           NaN        NaN  \n",
       "year                1999.0     2020.0  \n",
       "acousticness         0.888      0.996  \n",
       "danceability         0.667      0.988  \n",
       "energy                0.71        1.0  \n",
       "instrumentalness    0.0868        1.0  \n",
       "liveness             0.263        1.0  \n",
       "loudness            -7.118      3.855  \n",
       "speechiness         0.0754      0.969  \n",
       "tempo              135.712    244.091  \n",
       "valence              0.749        1.0  \n",
       "mode                   1.0        1.0  \n",
       "key                    8.0       11.0  \n",
       "popularity            48.0      100.0  \n",
       "explicit               0.0        1.0  "
      ]
     },
     "execution_count": 5,
     "metadata": {},
     "output_type": "execute_result"
    }
   ],
   "source": [
    "df.describe(include='all').T"
   ]
  },
  {
   "cell_type": "code",
   "execution_count": 6,
   "metadata": {},
   "outputs": [
    {
     "data": {
      "text/html": [
       "<div>\n",
       "<style scoped>\n",
       "    .dataframe tbody tr th:only-of-type {\n",
       "        vertical-align: middle;\n",
       "    }\n",
       "\n",
       "    .dataframe tbody tr th {\n",
       "        vertical-align: top;\n",
       "    }\n",
       "\n",
       "    .dataframe thead th {\n",
       "        text-align: right;\n",
       "    }\n",
       "</style>\n",
       "<table border=\"1\" class=\"dataframe\">\n",
       "  <thead>\n",
       "    <tr style=\"text-align: right;\">\n",
       "      <th></th>\n",
       "      <th>count</th>\n",
       "      <th>mean</th>\n",
       "      <th>std</th>\n",
       "      <th>min</th>\n",
       "      <th>25%</th>\n",
       "      <th>50%</th>\n",
       "      <th>75%</th>\n",
       "      <th>max</th>\n",
       "    </tr>\n",
       "  </thead>\n",
       "  <tbody>\n",
       "    <tr>\n",
       "      <th>duration_ms</th>\n",
       "      <td>169907.0</td>\n",
       "      <td>231407.085988</td>\n",
       "      <td>121322.336392</td>\n",
       "      <td>5108.0</td>\n",
       "      <td>171040.0000</td>\n",
       "      <td>208600.000000</td>\n",
       "      <td>262966.5000</td>\n",
       "      <td>5403500.000</td>\n",
       "    </tr>\n",
       "    <tr>\n",
       "      <th>year</th>\n",
       "      <td>169907.0</td>\n",
       "      <td>1977.223234</td>\n",
       "      <td>25.593318</td>\n",
       "      <td>1921.0</td>\n",
       "      <td>1957.0000</td>\n",
       "      <td>1978.000000</td>\n",
       "      <td>1999.0000</td>\n",
       "      <td>2020.000</td>\n",
       "    </tr>\n",
       "    <tr>\n",
       "      <th>acousticness</th>\n",
       "      <td>169907.0</td>\n",
       "      <td>0.493217</td>\n",
       "      <td>0.376628</td>\n",
       "      <td>0.0</td>\n",
       "      <td>0.0945</td>\n",
       "      <td>0.492000</td>\n",
       "      <td>0.8880</td>\n",
       "      <td>0.996</td>\n",
       "    </tr>\n",
       "    <tr>\n",
       "      <th>danceability</th>\n",
       "      <td>169907.0</td>\n",
       "      <td>0.538147</td>\n",
       "      <td>0.175345</td>\n",
       "      <td>0.0</td>\n",
       "      <td>0.4170</td>\n",
       "      <td>0.548000</td>\n",
       "      <td>0.6670</td>\n",
       "      <td>0.988</td>\n",
       "    </tr>\n",
       "    <tr>\n",
       "      <th>energy</th>\n",
       "      <td>169907.0</td>\n",
       "      <td>0.488591</td>\n",
       "      <td>0.267391</td>\n",
       "      <td>0.0</td>\n",
       "      <td>0.2630</td>\n",
       "      <td>0.481000</td>\n",
       "      <td>0.7100</td>\n",
       "      <td>1.000</td>\n",
       "    </tr>\n",
       "    <tr>\n",
       "      <th>instrumentalness</th>\n",
       "      <td>169907.0</td>\n",
       "      <td>0.161939</td>\n",
       "      <td>0.309330</td>\n",
       "      <td>0.0</td>\n",
       "      <td>0.0000</td>\n",
       "      <td>0.000204</td>\n",
       "      <td>0.0868</td>\n",
       "      <td>1.000</td>\n",
       "    </tr>\n",
       "    <tr>\n",
       "      <th>liveness</th>\n",
       "      <td>169907.0</td>\n",
       "      <td>0.206692</td>\n",
       "      <td>0.176797</td>\n",
       "      <td>0.0</td>\n",
       "      <td>0.0984</td>\n",
       "      <td>0.135000</td>\n",
       "      <td>0.2630</td>\n",
       "      <td>1.000</td>\n",
       "    </tr>\n",
       "    <tr>\n",
       "      <th>loudness</th>\n",
       "      <td>169907.0</td>\n",
       "      <td>-11.370311</td>\n",
       "      <td>5.666795</td>\n",
       "      <td>-60.0</td>\n",
       "      <td>-14.4700</td>\n",
       "      <td>-10.474000</td>\n",
       "      <td>-7.1180</td>\n",
       "      <td>3.855</td>\n",
       "    </tr>\n",
       "    <tr>\n",
       "      <th>speechiness</th>\n",
       "      <td>169907.0</td>\n",
       "      <td>0.094058</td>\n",
       "      <td>0.149938</td>\n",
       "      <td>0.0</td>\n",
       "      <td>0.0349</td>\n",
       "      <td>0.045000</td>\n",
       "      <td>0.0754</td>\n",
       "      <td>0.969</td>\n",
       "    </tr>\n",
       "    <tr>\n",
       "      <th>tempo</th>\n",
       "      <td>169907.0</td>\n",
       "      <td>116.947850</td>\n",
       "      <td>30.727079</td>\n",
       "      <td>0.0</td>\n",
       "      <td>93.5160</td>\n",
       "      <td>114.777000</td>\n",
       "      <td>135.7120</td>\n",
       "      <td>244.091</td>\n",
       "    </tr>\n",
       "    <tr>\n",
       "      <th>valence</th>\n",
       "      <td>169907.0</td>\n",
       "      <td>0.532091</td>\n",
       "      <td>0.262407</td>\n",
       "      <td>0.0</td>\n",
       "      <td>0.3220</td>\n",
       "      <td>0.544000</td>\n",
       "      <td>0.7490</td>\n",
       "      <td>1.000</td>\n",
       "    </tr>\n",
       "    <tr>\n",
       "      <th>mode</th>\n",
       "      <td>169907.0</td>\n",
       "      <td>0.708552</td>\n",
       "      <td>0.454431</td>\n",
       "      <td>0.0</td>\n",
       "      <td>0.0000</td>\n",
       "      <td>1.000000</td>\n",
       "      <td>1.0000</td>\n",
       "      <td>1.000</td>\n",
       "    </tr>\n",
       "    <tr>\n",
       "      <th>key</th>\n",
       "      <td>169907.0</td>\n",
       "      <td>5.200498</td>\n",
       "      <td>3.515272</td>\n",
       "      <td>0.0</td>\n",
       "      <td>2.0000</td>\n",
       "      <td>5.000000</td>\n",
       "      <td>8.0000</td>\n",
       "      <td>11.000</td>\n",
       "    </tr>\n",
       "    <tr>\n",
       "      <th>popularity</th>\n",
       "      <td>169907.0</td>\n",
       "      <td>31.556681</td>\n",
       "      <td>21.582730</td>\n",
       "      <td>0.0</td>\n",
       "      <td>12.0000</td>\n",
       "      <td>33.000000</td>\n",
       "      <td>48.0000</td>\n",
       "      <td>100.000</td>\n",
       "    </tr>\n",
       "    <tr>\n",
       "      <th>explicit</th>\n",
       "      <td>169907.0</td>\n",
       "      <td>0.084864</td>\n",
       "      <td>0.278680</td>\n",
       "      <td>0.0</td>\n",
       "      <td>0.0000</td>\n",
       "      <td>0.000000</td>\n",
       "      <td>0.0000</td>\n",
       "      <td>1.000</td>\n",
       "    </tr>\n",
       "  </tbody>\n",
       "</table>\n",
       "</div>"
      ],
      "text/plain": [
       "                     count           mean            std     min          25%  \\\n",
       "duration_ms       169907.0  231407.085988  121322.336392  5108.0  171040.0000   \n",
       "year              169907.0    1977.223234      25.593318  1921.0    1957.0000   \n",
       "acousticness      169907.0       0.493217       0.376628     0.0       0.0945   \n",
       "danceability      169907.0       0.538147       0.175345     0.0       0.4170   \n",
       "energy            169907.0       0.488591       0.267391     0.0       0.2630   \n",
       "instrumentalness  169907.0       0.161939       0.309330     0.0       0.0000   \n",
       "liveness          169907.0       0.206692       0.176797     0.0       0.0984   \n",
       "loudness          169907.0     -11.370311       5.666795   -60.0     -14.4700   \n",
       "speechiness       169907.0       0.094058       0.149938     0.0       0.0349   \n",
       "tempo             169907.0     116.947850      30.727079     0.0      93.5160   \n",
       "valence           169907.0       0.532091       0.262407     0.0       0.3220   \n",
       "mode              169907.0       0.708552       0.454431     0.0       0.0000   \n",
       "key               169907.0       5.200498       3.515272     0.0       2.0000   \n",
       "popularity        169907.0      31.556681      21.582730     0.0      12.0000   \n",
       "explicit          169907.0       0.084864       0.278680     0.0       0.0000   \n",
       "\n",
       "                            50%          75%          max  \n",
       "duration_ms       208600.000000  262966.5000  5403500.000  \n",
       "year                1978.000000    1999.0000     2020.000  \n",
       "acousticness           0.492000       0.8880        0.996  \n",
       "danceability           0.548000       0.6670        0.988  \n",
       "energy                 0.481000       0.7100        1.000  \n",
       "instrumentalness       0.000204       0.0868        1.000  \n",
       "liveness               0.135000       0.2630        1.000  \n",
       "loudness             -10.474000      -7.1180        3.855  \n",
       "speechiness            0.045000       0.0754        0.969  \n",
       "tempo                114.777000     135.7120      244.091  \n",
       "valence                0.544000       0.7490        1.000  \n",
       "mode                   1.000000       1.0000        1.000  \n",
       "key                    5.000000       8.0000       11.000  \n",
       "popularity            33.000000      48.0000      100.000  \n",
       "explicit               0.000000       0.0000        1.000  "
      ]
     },
     "execution_count": 6,
     "metadata": {},
     "output_type": "execute_result"
    }
   ],
   "source": [
    "df.describe().T"
   ]
  },
  {
   "cell_type": "code",
   "execution_count": 7,
   "metadata": {},
   "outputs": [
    {
     "data": {
      "text/html": [
       "<div>\n",
       "<style scoped>\n",
       "    .dataframe tbody tr th:only-of-type {\n",
       "        vertical-align: middle;\n",
       "    }\n",
       "\n",
       "    .dataframe tbody tr th {\n",
       "        vertical-align: top;\n",
       "    }\n",
       "\n",
       "    .dataframe thead th {\n",
       "        text-align: right;\n",
       "    }\n",
       "</style>\n",
       "<table border=\"1\" class=\"dataframe\">\n",
       "  <thead>\n",
       "    <tr style=\"text-align: right;\">\n",
       "      <th></th>\n",
       "      <th>count</th>\n",
       "      <th>unique</th>\n",
       "      <th>top</th>\n",
       "      <th>freq</th>\n",
       "    </tr>\n",
       "  </thead>\n",
       "  <tbody>\n",
       "    <tr>\n",
       "      <th>id</th>\n",
       "      <td>169907</td>\n",
       "      <td>169907</td>\n",
       "      <td>0gNNToCW3qjabgTyBSjt3H</td>\n",
       "      <td>1</td>\n",
       "    </tr>\n",
       "    <tr>\n",
       "      <th>name</th>\n",
       "      <td>169907</td>\n",
       "      <td>132938</td>\n",
       "      <td>Summertime</td>\n",
       "      <td>62</td>\n",
       "    </tr>\n",
       "    <tr>\n",
       "      <th>artists</th>\n",
       "      <td>169907</td>\n",
       "      <td>33375</td>\n",
       "      <td>['Эрнест Хемингуэй']</td>\n",
       "      <td>1215</td>\n",
       "    </tr>\n",
       "    <tr>\n",
       "      <th>release_date</th>\n",
       "      <td>169907</td>\n",
       "      <td>10882</td>\n",
       "      <td>1945</td>\n",
       "      <td>1449</td>\n",
       "    </tr>\n",
       "  </tbody>\n",
       "</table>\n",
       "</div>"
      ],
      "text/plain": [
       "               count  unique                     top  freq\n",
       "id            169907  169907  0gNNToCW3qjabgTyBSjt3H     1\n",
       "name          169907  132938              Summertime    62\n",
       "artists       169907   33375    ['Эрнест Хемингуэй']  1215\n",
       "release_date  169907   10882                    1945  1449"
      ]
     },
     "execution_count": 7,
     "metadata": {},
     "output_type": "execute_result"
    }
   ],
   "source": [
    "df.describe(include='object').T"
   ]
  },
  {
   "cell_type": "markdown",
   "metadata": {},
   "source": [
    "# cast a las fechas\n",
    "ya se observa que el campo `release_date` se puede castear como fecha, vamos a ver si todos los campos tienen la misma estructura:"
   ]
  },
  {
   "cell_type": "code",
   "execution_count": 8,
   "metadata": {},
   "outputs": [
    {
     "data": {
      "text/plain": [
       "1945       1449\n",
       "1949       1254\n",
       "1935       1123\n",
       "1948       1052\n",
       "1/1/30     1047\n",
       "           ... \n",
       "4/16/01       1\n",
       "2/22/03       1\n",
       "3/30/15       1\n",
       "2/21/89       1\n",
       "4/19/04       1\n",
       "Name: release_date, Length: 10882, dtype: int64"
      ]
     },
     "execution_count": 8,
     "metadata": {},
     "output_type": "execute_result"
    }
   ],
   "source": [
    "df['release_date'].value_counts()"
   ]
  },
  {
   "cell_type": "markdown",
   "metadata": {},
   "source": [
    "hay años que no tienen día -> habrá que suponer la fecha, para poder generar un nuevo campo `date` que tenga el formato adecuado. podemos intentar ver posibilidades calculando la longitd de los datos que se almacenan en el campo `release_date`."
   ]
  },
  {
   "cell_type": "code",
   "execution_count": 9,
   "metadata": {},
   "outputs": [],
   "source": [
    "df['release_date_length'] = df['release_date'].apply(len)"
   ]
  },
  {
   "cell_type": "code",
   "execution_count": 10,
   "metadata": {},
   "outputs": [
    {
     "data": {
      "text/plain": [
       "6    52683\n",
       "4    50382\n",
       "7    50212\n",
       "8    16630\n",
       "Name: release_date_length, dtype: int64"
      ]
     },
     "execution_count": 10,
     "metadata": {},
     "output_type": "execute_result"
    }
   ],
   "source": [
    "df['release_date_length'].value_counts()"
   ]
  },
  {
   "cell_type": "code",
   "execution_count": 11,
   "metadata": {},
   "outputs": [
    {
     "data": {
      "text/html": [
       "<div>\n",
       "<style scoped>\n",
       "    .dataframe tbody tr th:only-of-type {\n",
       "        vertical-align: middle;\n",
       "    }\n",
       "\n",
       "    .dataframe tbody tr th {\n",
       "        vertical-align: top;\n",
       "    }\n",
       "\n",
       "    .dataframe thead th {\n",
       "        text-align: right;\n",
       "    }\n",
       "</style>\n",
       "<table border=\"1\" class=\"dataframe\">\n",
       "  <thead>\n",
       "    <tr style=\"text-align: right;\">\n",
       "      <th></th>\n",
       "      <th>index</th>\n",
       "      <th>release_date_length</th>\n",
       "      <th>ratio</th>\n",
       "    </tr>\n",
       "  </thead>\n",
       "  <tbody>\n",
       "    <tr>\n",
       "      <th>0</th>\n",
       "      <td>6</td>\n",
       "      <td>52683</td>\n",
       "      <td>0.310070</td>\n",
       "    </tr>\n",
       "    <tr>\n",
       "      <th>1</th>\n",
       "      <td>4</td>\n",
       "      <td>50382</td>\n",
       "      <td>0.296527</td>\n",
       "    </tr>\n",
       "    <tr>\n",
       "      <th>2</th>\n",
       "      <td>7</td>\n",
       "      <td>50212</td>\n",
       "      <td>0.295526</td>\n",
       "    </tr>\n",
       "    <tr>\n",
       "      <th>3</th>\n",
       "      <td>8</td>\n",
       "      <td>16630</td>\n",
       "      <td>0.097877</td>\n",
       "    </tr>\n",
       "  </tbody>\n",
       "</table>\n",
       "</div>"
      ],
      "text/plain": [
       "   index  release_date_length     ratio\n",
       "0      6                52683  0.310070\n",
       "1      4                50382  0.296527\n",
       "2      7                50212  0.295526\n",
       "3      8                16630  0.097877"
      ]
     },
     "execution_count": 11,
     "metadata": {},
     "output_type": "execute_result"
    }
   ],
   "source": [
    "df_fechas = df['release_date_length'].value_counts().reset_index()\n",
    "df_fechas['ratio'] = df_fechas['release_date_length'] / df.shape[0]\n",
    "df_fechas"
   ]
  },
  {
   "cell_type": "code",
   "execution_count": 12,
   "metadata": {},
   "outputs": [
    {
     "data": {
      "text/html": [
       "<div>\n",
       "<style scoped>\n",
       "    .dataframe tbody tr th:only-of-type {\n",
       "        vertical-align: middle;\n",
       "    }\n",
       "\n",
       "    .dataframe tbody tr th {\n",
       "        vertical-align: top;\n",
       "    }\n",
       "\n",
       "    .dataframe thead th {\n",
       "        text-align: right;\n",
       "    }\n",
       "</style>\n",
       "<table border=\"1\" class=\"dataframe\">\n",
       "  <thead>\n",
       "    <tr style=\"text-align: right;\">\n",
       "      <th></th>\n",
       "      <th>id</th>\n",
       "      <th>name</th>\n",
       "      <th>artists</th>\n",
       "      <th>duration_ms</th>\n",
       "      <th>release_date</th>\n",
       "      <th>year</th>\n",
       "      <th>acousticness</th>\n",
       "      <th>danceability</th>\n",
       "      <th>energy</th>\n",
       "      <th>instrumentalness</th>\n",
       "      <th>liveness</th>\n",
       "      <th>loudness</th>\n",
       "      <th>speechiness</th>\n",
       "      <th>tempo</th>\n",
       "      <th>valence</th>\n",
       "      <th>mode</th>\n",
       "      <th>key</th>\n",
       "      <th>popularity</th>\n",
       "      <th>explicit</th>\n",
       "      <th>release_date_length</th>\n",
       "    </tr>\n",
       "  </thead>\n",
       "  <tbody>\n",
       "    <tr>\n",
       "      <th>6</th>\n",
       "      <td>3mdPsKBeXxC4N6oKKZeBNy</td>\n",
       "      <td>\"8\" Teen</td>\n",
       "      <td>['? &amp; The Mysterians']</td>\n",
       "      <td>166693</td>\n",
       "      <td>1966</td>\n",
       "      <td>1966</td>\n",
       "      <td>0.111</td>\n",
       "      <td>0.657</td>\n",
       "      <td>0.872</td>\n",
       "      <td>0.713</td>\n",
       "      <td>0.0857</td>\n",
       "      <td>-7.279</td>\n",
       "      <td>0.0512</td>\n",
       "      <td>136.512</td>\n",
       "      <td>0.738</td>\n",
       "      <td>1</td>\n",
       "      <td>2</td>\n",
       "      <td>17</td>\n",
       "      <td>0</td>\n",
       "      <td>4</td>\n",
       "    </tr>\n",
       "  </tbody>\n",
       "</table>\n",
       "</div>"
      ],
      "text/plain": [
       "                       id      name                 artists  duration_ms  \\\n",
       "6  3mdPsKBeXxC4N6oKKZeBNy  \"8\" Teen  ['? & The Mysterians']       166693   \n",
       "\n",
       "  release_date  year  acousticness  danceability  energy  instrumentalness  \\\n",
       "6         1966  1966         0.111         0.657   0.872             0.713   \n",
       "\n",
       "   liveness  loudness  speechiness    tempo  valence  mode  key  popularity  \\\n",
       "6    0.0857    -7.279       0.0512  136.512    0.738     1    2          17   \n",
       "\n",
       "   explicit  release_date_length  \n",
       "6         0                    4  "
      ]
     },
     "execution_count": 12,
     "metadata": {},
     "output_type": "execute_result"
    }
   ],
   "source": [
    "df[df['release_date_length'] == 4].head(1)"
   ]
  },
  {
   "cell_type": "code",
   "execution_count": 13,
   "metadata": {},
   "outputs": [
    {
     "data": {
      "text/html": [
       "<div>\n",
       "<style scoped>\n",
       "    .dataframe tbody tr th:only-of-type {\n",
       "        vertical-align: middle;\n",
       "    }\n",
       "\n",
       "    .dataframe tbody tr th {\n",
       "        vertical-align: top;\n",
       "    }\n",
       "\n",
       "    .dataframe thead th {\n",
       "        text-align: right;\n",
       "    }\n",
       "</style>\n",
       "<table border=\"1\" class=\"dataframe\">\n",
       "  <thead>\n",
       "    <tr style=\"text-align: right;\">\n",
       "      <th></th>\n",
       "      <th>id</th>\n",
       "      <th>name</th>\n",
       "      <th>artists</th>\n",
       "      <th>duration_ms</th>\n",
       "      <th>release_date</th>\n",
       "      <th>year</th>\n",
       "      <th>acousticness</th>\n",
       "      <th>danceability</th>\n",
       "      <th>energy</th>\n",
       "      <th>instrumentalness</th>\n",
       "      <th>liveness</th>\n",
       "      <th>loudness</th>\n",
       "      <th>speechiness</th>\n",
       "      <th>tempo</th>\n",
       "      <th>valence</th>\n",
       "      <th>mode</th>\n",
       "      <th>key</th>\n",
       "      <th>popularity</th>\n",
       "      <th>explicit</th>\n",
       "      <th>release_date_length</th>\n",
       "    </tr>\n",
       "  </thead>\n",
       "  <tbody>\n",
       "    <tr>\n",
       "      <th>72852</th>\n",
       "      <td>3wGQULikds23nGCvIJf5G4</td>\n",
       "      <td>Just the Way You Are</td>\n",
       "      <td>['The Piano Guys']</td>\n",
       "      <td>262240</td>\n",
       "      <td>5/3/13</td>\n",
       "      <td>2013</td>\n",
       "      <td>0.992</td>\n",
       "      <td>0.383</td>\n",
       "      <td>0.0678</td>\n",
       "      <td>0.9170</td>\n",
       "      <td>0.0811</td>\n",
       "      <td>-18.621</td>\n",
       "      <td>0.0417</td>\n",
       "      <td>90.578</td>\n",
       "      <td>0.1930</td>\n",
       "      <td>1</td>\n",
       "      <td>4</td>\n",
       "      <td>57</td>\n",
       "      <td>0</td>\n",
       "      <td>6</td>\n",
       "    </tr>\n",
       "    <tr>\n",
       "      <th>13340</th>\n",
       "      <td>1TomqIgyiZBBpU4SYfm4PF</td>\n",
       "      <td>Bartók: Music for Strings, Percussion and Cele...</td>\n",
       "      <td>['Béla Bartók', 'Herbert von Karajan', 'Philha...</td>\n",
       "      <td>486080</td>\n",
       "      <td>7/1/51</td>\n",
       "      <td>1951</td>\n",
       "      <td>0.875</td>\n",
       "      <td>0.103</td>\n",
       "      <td>0.0448</td>\n",
       "      <td>0.8590</td>\n",
       "      <td>0.1360</td>\n",
       "      <td>-22.111</td>\n",
       "      <td>0.0394</td>\n",
       "      <td>82.655</td>\n",
       "      <td>0.0321</td>\n",
       "      <td>0</td>\n",
       "      <td>5</td>\n",
       "      <td>2</td>\n",
       "      <td>0</td>\n",
       "      <td>6</td>\n",
       "    </tr>\n",
       "    <tr>\n",
       "      <th>68725</th>\n",
       "      <td>3FEEfb772gpjK2J7GUsEb8</td>\n",
       "      <td>Is It Because I'm Black?</td>\n",
       "      <td>['Ken Boothe']</td>\n",
       "      <td>222667</td>\n",
       "      <td>1/1/87</td>\n",
       "      <td>1987</td>\n",
       "      <td>0.141</td>\n",
       "      <td>0.736</td>\n",
       "      <td>0.4420</td>\n",
       "      <td>0.0308</td>\n",
       "      <td>0.1020</td>\n",
       "      <td>-13.887</td>\n",
       "      <td>0.0569</td>\n",
       "      <td>147.054</td>\n",
       "      <td>0.9450</td>\n",
       "      <td>0</td>\n",
       "      <td>10</td>\n",
       "      <td>43</td>\n",
       "      <td>0</td>\n",
       "      <td>6</td>\n",
       "    </tr>\n",
       "    <tr>\n",
       "      <th>169022</th>\n",
       "      <td>5FVRaL3CKfTqWpS4Qqhwl1</td>\n",
       "      <td>南屏晚鐘</td>\n",
       "      <td>['崔萍']</td>\n",
       "      <td>190133</td>\n",
       "      <td>2/1/45</td>\n",
       "      <td>1945</td>\n",
       "      <td>0.861</td>\n",
       "      <td>0.486</td>\n",
       "      <td>0.1420</td>\n",
       "      <td>0.0000</td>\n",
       "      <td>0.1070</td>\n",
       "      <td>-12.160</td>\n",
       "      <td>0.0325</td>\n",
       "      <td>108.193</td>\n",
       "      <td>0.5490</td>\n",
       "      <td>1</td>\n",
       "      <td>0</td>\n",
       "      <td>7</td>\n",
       "      <td>0</td>\n",
       "      <td>6</td>\n",
       "    </tr>\n",
       "    <tr>\n",
       "      <th>139579</th>\n",
       "      <td>13XMn3vVhwm12NOCpkB380</td>\n",
       "      <td>The Harder They Come</td>\n",
       "      <td>['Jimmy Cliff']</td>\n",
       "      <td>220533</td>\n",
       "      <td>1/1/99</td>\n",
       "      <td>1999</td>\n",
       "      <td>0.700</td>\n",
       "      <td>0.668</td>\n",
       "      <td>0.6500</td>\n",
       "      <td>0.0000</td>\n",
       "      <td>0.1250</td>\n",
       "      <td>-6.292</td>\n",
       "      <td>0.0583</td>\n",
       "      <td>103.512</td>\n",
       "      <td>0.8480</td>\n",
       "      <td>1</td>\n",
       "      <td>1</td>\n",
       "      <td>55</td>\n",
       "      <td>0</td>\n",
       "      <td>6</td>\n",
       "    </tr>\n",
       "  </tbody>\n",
       "</table>\n",
       "</div>"
      ],
      "text/plain": [
       "                            id  \\\n",
       "72852   3wGQULikds23nGCvIJf5G4   \n",
       "13340   1TomqIgyiZBBpU4SYfm4PF   \n",
       "68725   3FEEfb772gpjK2J7GUsEb8   \n",
       "169022  5FVRaL3CKfTqWpS4Qqhwl1   \n",
       "139579  13XMn3vVhwm12NOCpkB380   \n",
       "\n",
       "                                                     name  \\\n",
       "72852                                Just the Way You Are   \n",
       "13340   Bartók: Music for Strings, Percussion and Cele...   \n",
       "68725                            Is It Because I'm Black?   \n",
       "169022                                               南屏晚鐘   \n",
       "139579                               The Harder They Come   \n",
       "\n",
       "                                                  artists  duration_ms  \\\n",
       "72852                                  ['The Piano Guys']       262240   \n",
       "13340   ['Béla Bartók', 'Herbert von Karajan', 'Philha...       486080   \n",
       "68725                                      ['Ken Boothe']       222667   \n",
       "169022                                             ['崔萍']       190133   \n",
       "139579                                    ['Jimmy Cliff']       220533   \n",
       "\n",
       "       release_date  year  acousticness  danceability  energy  \\\n",
       "72852        5/3/13  2013         0.992         0.383  0.0678   \n",
       "13340        7/1/51  1951         0.875         0.103  0.0448   \n",
       "68725        1/1/87  1987         0.141         0.736  0.4420   \n",
       "169022       2/1/45  1945         0.861         0.486  0.1420   \n",
       "139579       1/1/99  1999         0.700         0.668  0.6500   \n",
       "\n",
       "        instrumentalness  liveness  loudness  speechiness    tempo  valence  \\\n",
       "72852             0.9170    0.0811   -18.621       0.0417   90.578   0.1930   \n",
       "13340             0.8590    0.1360   -22.111       0.0394   82.655   0.0321   \n",
       "68725             0.0308    0.1020   -13.887       0.0569  147.054   0.9450   \n",
       "169022            0.0000    0.1070   -12.160       0.0325  108.193   0.5490   \n",
       "139579            0.0000    0.1250    -6.292       0.0583  103.512   0.8480   \n",
       "\n",
       "        mode  key  popularity  explicit  release_date_length  \n",
       "72852      1    4          57         0                    6  \n",
       "13340      0    5           2         0                    6  \n",
       "68725      0   10          43         0                    6  \n",
       "169022     1    0           7         0                    6  \n",
       "139579     1    1          55         0                    6  "
      ]
     },
     "execution_count": 13,
     "metadata": {},
     "output_type": "execute_result"
    }
   ],
   "source": [
    "df[df['release_date_length'] == 6].sample(5)"
   ]
  },
  {
   "cell_type": "code",
   "execution_count": 14,
   "metadata": {},
   "outputs": [
    {
     "data": {
      "text/html": [
       "<div>\n",
       "<style scoped>\n",
       "    .dataframe tbody tr th:only-of-type {\n",
       "        vertical-align: middle;\n",
       "    }\n",
       "\n",
       "    .dataframe tbody tr th {\n",
       "        vertical-align: top;\n",
       "    }\n",
       "\n",
       "    .dataframe thead th {\n",
       "        text-align: right;\n",
       "    }\n",
       "</style>\n",
       "<table border=\"1\" class=\"dataframe\">\n",
       "  <thead>\n",
       "    <tr style=\"text-align: right;\">\n",
       "      <th></th>\n",
       "      <th>id</th>\n",
       "      <th>name</th>\n",
       "      <th>artists</th>\n",
       "      <th>duration_ms</th>\n",
       "      <th>release_date</th>\n",
       "      <th>year</th>\n",
       "      <th>acousticness</th>\n",
       "      <th>danceability</th>\n",
       "      <th>energy</th>\n",
       "      <th>instrumentalness</th>\n",
       "      <th>liveness</th>\n",
       "      <th>loudness</th>\n",
       "      <th>speechiness</th>\n",
       "      <th>tempo</th>\n",
       "      <th>valence</th>\n",
       "      <th>mode</th>\n",
       "      <th>key</th>\n",
       "      <th>popularity</th>\n",
       "      <th>explicit</th>\n",
       "      <th>release_date_length</th>\n",
       "    </tr>\n",
       "  </thead>\n",
       "  <tbody>\n",
       "    <tr>\n",
       "      <th>16649</th>\n",
       "      <td>66Avcq6c51vcMGXLzHH5d7</td>\n",
       "      <td>Bloodfeather</td>\n",
       "      <td>['Highly Suspect']</td>\n",
       "      <td>234093</td>\n",
       "      <td>7/17/15</td>\n",
       "      <td>2015</td>\n",
       "      <td>0.000383</td>\n",
       "      <td>0.547</td>\n",
       "      <td>0.792</td>\n",
       "      <td>0.000259</td>\n",
       "      <td>0.106</td>\n",
       "      <td>-5.645</td>\n",
       "      <td>0.0350</td>\n",
       "      <td>97.998</td>\n",
       "      <td>0.395</td>\n",
       "      <td>0</td>\n",
       "      <td>9</td>\n",
       "      <td>55</td>\n",
       "      <td>1</td>\n",
       "      <td>7</td>\n",
       "    </tr>\n",
       "    <tr>\n",
       "      <th>19060</th>\n",
       "      <td>6X8qok8S6wJKd60UyJqCKp</td>\n",
       "      <td>Brindis - Remastered</td>\n",
       "      <td>['Orquesta Gran Casino']</td>\n",
       "      <td>191298</td>\n",
       "      <td>1/12/42</td>\n",
       "      <td>1942</td>\n",
       "      <td>0.754000</td>\n",
       "      <td>0.740</td>\n",
       "      <td>0.620</td>\n",
       "      <td>0.005600</td>\n",
       "      <td>0.214</td>\n",
       "      <td>-9.074</td>\n",
       "      <td>0.0437</td>\n",
       "      <td>116.051</td>\n",
       "      <td>0.936</td>\n",
       "      <td>1</td>\n",
       "      <td>10</td>\n",
       "      <td>0</td>\n",
       "      <td>0</td>\n",
       "      <td>7</td>\n",
       "    </tr>\n",
       "    <tr>\n",
       "      <th>161601</th>\n",
       "      <td>1VZo1zddq6LpxwMtvHPVgM</td>\n",
       "      <td>Wrecking Ball</td>\n",
       "      <td>['Mother Mother']</td>\n",
       "      <td>194320</td>\n",
       "      <td>9/23/08</td>\n",
       "      <td>2008</td>\n",
       "      <td>0.194000</td>\n",
       "      <td>0.664</td>\n",
       "      <td>0.797</td>\n",
       "      <td>0.000000</td>\n",
       "      <td>0.337</td>\n",
       "      <td>-4.473</td>\n",
       "      <td>0.0362</td>\n",
       "      <td>97.004</td>\n",
       "      <td>0.284</td>\n",
       "      <td>1</td>\n",
       "      <td>7</td>\n",
       "      <td>53</td>\n",
       "      <td>0</td>\n",
       "      <td>7</td>\n",
       "    </tr>\n",
       "    <tr>\n",
       "      <th>34314</th>\n",
       "      <td>47uDHNJpq4zUfOM0RFdEbV</td>\n",
       "      <td>Do Me!</td>\n",
       "      <td>['Bell Biv DeVoe']</td>\n",
       "      <td>272427</td>\n",
       "      <td>3/20/90</td>\n",
       "      <td>1990</td>\n",
       "      <td>0.017900</td>\n",
       "      <td>0.714</td>\n",
       "      <td>0.735</td>\n",
       "      <td>0.000016</td>\n",
       "      <td>0.238</td>\n",
       "      <td>-8.030</td>\n",
       "      <td>0.0373</td>\n",
       "      <td>107.822</td>\n",
       "      <td>0.704</td>\n",
       "      <td>1</td>\n",
       "      <td>7</td>\n",
       "      <td>46</td>\n",
       "      <td>0</td>\n",
       "      <td>7</td>\n",
       "    </tr>\n",
       "    <tr>\n",
       "      <th>120093</th>\n",
       "      <td>5D8SzvASRr7V7ZrrXsh6SY</td>\n",
       "      <td>Serpentskirt</td>\n",
       "      <td>['Cocteau Twins']</td>\n",
       "      <td>237600</td>\n",
       "      <td>1996-03</td>\n",
       "      <td>1996</td>\n",
       "      <td>0.595000</td>\n",
       "      <td>0.451</td>\n",
       "      <td>0.583</td>\n",
       "      <td>0.000030</td>\n",
       "      <td>0.195</td>\n",
       "      <td>-6.481</td>\n",
       "      <td>0.0244</td>\n",
       "      <td>77.945</td>\n",
       "      <td>0.582</td>\n",
       "      <td>0</td>\n",
       "      <td>4</td>\n",
       "      <td>35</td>\n",
       "      <td>0</td>\n",
       "      <td>7</td>\n",
       "    </tr>\n",
       "  </tbody>\n",
       "</table>\n",
       "</div>"
      ],
      "text/plain": [
       "                            id                  name  \\\n",
       "16649   66Avcq6c51vcMGXLzHH5d7          Bloodfeather   \n",
       "19060   6X8qok8S6wJKd60UyJqCKp  Brindis - Remastered   \n",
       "161601  1VZo1zddq6LpxwMtvHPVgM         Wrecking Ball   \n",
       "34314   47uDHNJpq4zUfOM0RFdEbV                Do Me!   \n",
       "120093  5D8SzvASRr7V7ZrrXsh6SY          Serpentskirt   \n",
       "\n",
       "                         artists  duration_ms release_date  year  \\\n",
       "16649         ['Highly Suspect']       234093      7/17/15  2015   \n",
       "19060   ['Orquesta Gran Casino']       191298      1/12/42  1942   \n",
       "161601         ['Mother Mother']       194320      9/23/08  2008   \n",
       "34314         ['Bell Biv DeVoe']       272427      3/20/90  1990   \n",
       "120093         ['Cocteau Twins']       237600      1996-03  1996   \n",
       "\n",
       "        acousticness  danceability  energy  instrumentalness  liveness  \\\n",
       "16649       0.000383         0.547   0.792          0.000259     0.106   \n",
       "19060       0.754000         0.740   0.620          0.005600     0.214   \n",
       "161601      0.194000         0.664   0.797          0.000000     0.337   \n",
       "34314       0.017900         0.714   0.735          0.000016     0.238   \n",
       "120093      0.595000         0.451   0.583          0.000030     0.195   \n",
       "\n",
       "        loudness  speechiness    tempo  valence  mode  key  popularity  \\\n",
       "16649     -5.645       0.0350   97.998    0.395     0    9          55   \n",
       "19060     -9.074       0.0437  116.051    0.936     1   10           0   \n",
       "161601    -4.473       0.0362   97.004    0.284     1    7          53   \n",
       "34314     -8.030       0.0373  107.822    0.704     1    7          46   \n",
       "120093    -6.481       0.0244   77.945    0.582     0    4          35   \n",
       "\n",
       "        explicit  release_date_length  \n",
       "16649          1                    7  \n",
       "19060          0                    7  \n",
       "161601         0                    7  \n",
       "34314          0                    7  \n",
       "120093         0                    7  "
      ]
     },
     "execution_count": 14,
     "metadata": {},
     "output_type": "execute_result"
    }
   ],
   "source": [
    "df[df['release_date_length'] == 7].sample(5)"
   ]
  },
  {
   "cell_type": "code",
   "execution_count": 15,
   "metadata": {},
   "outputs": [
    {
     "data": {
      "text/html": [
       "<div>\n",
       "<style scoped>\n",
       "    .dataframe tbody tr th:only-of-type {\n",
       "        vertical-align: middle;\n",
       "    }\n",
       "\n",
       "    .dataframe tbody tr th {\n",
       "        vertical-align: top;\n",
       "    }\n",
       "\n",
       "    .dataframe thead th {\n",
       "        text-align: right;\n",
       "    }\n",
       "</style>\n",
       "<table border=\"1\" class=\"dataframe\">\n",
       "  <thead>\n",
       "    <tr style=\"text-align: right;\">\n",
       "      <th></th>\n",
       "      <th>id</th>\n",
       "      <th>name</th>\n",
       "      <th>artists</th>\n",
       "      <th>duration_ms</th>\n",
       "      <th>release_date</th>\n",
       "      <th>year</th>\n",
       "      <th>acousticness</th>\n",
       "      <th>danceability</th>\n",
       "      <th>energy</th>\n",
       "      <th>instrumentalness</th>\n",
       "      <th>liveness</th>\n",
       "      <th>loudness</th>\n",
       "      <th>speechiness</th>\n",
       "      <th>tempo</th>\n",
       "      <th>valence</th>\n",
       "      <th>mode</th>\n",
       "      <th>key</th>\n",
       "      <th>popularity</th>\n",
       "      <th>explicit</th>\n",
       "      <th>release_date_length</th>\n",
       "    </tr>\n",
       "  </thead>\n",
       "  <tbody>\n",
       "    <tr>\n",
       "      <th>54778</th>\n",
       "      <td>5MuNxNox3zTanAFIO5KcTl</td>\n",
       "      <td>He's the Greatest Dancer</td>\n",
       "      <td>['Sister Sledge']</td>\n",
       "      <td>375400</td>\n",
       "      <td>10/30/07</td>\n",
       "      <td>2007</td>\n",
       "      <td>0.00115</td>\n",
       "      <td>0.700</td>\n",
       "      <td>0.816</td>\n",
       "      <td>0.001230</td>\n",
       "      <td>0.0901</td>\n",
       "      <td>-9.711</td>\n",
       "      <td>0.0440</td>\n",
       "      <td>113.244</td>\n",
       "      <td>0.838</td>\n",
       "      <td>0</td>\n",
       "      <td>7</td>\n",
       "      <td>56</td>\n",
       "      <td>0</td>\n",
       "      <td>8</td>\n",
       "    </tr>\n",
       "    <tr>\n",
       "      <th>13306</th>\n",
       "      <td>3DRH5iVqchXWQMZRPts3cr</td>\n",
       "      <td>Barrio Pobre</td>\n",
       "      <td>['Cornelio Reyna']</td>\n",
       "      <td>183278</td>\n",
       "      <td>12/19/91</td>\n",
       "      <td>1991</td>\n",
       "      <td>0.58500</td>\n",
       "      <td>0.479</td>\n",
       "      <td>0.260</td>\n",
       "      <td>0.000000</td>\n",
       "      <td>0.0580</td>\n",
       "      <td>-8.925</td>\n",
       "      <td>0.0640</td>\n",
       "      <td>170.063</td>\n",
       "      <td>0.676</td>\n",
       "      <td>1</td>\n",
       "      <td>9</td>\n",
       "      <td>34</td>\n",
       "      <td>0</td>\n",
       "      <td>8</td>\n",
       "    </tr>\n",
       "    <tr>\n",
       "      <th>25883</th>\n",
       "      <td>3jYW03V9XeM2w7LJ0EXQDC</td>\n",
       "      <td>Cockiness (Love It)</td>\n",
       "      <td>['Rihanna']</td>\n",
       "      <td>178027</td>\n",
       "      <td>11/19/11</td>\n",
       "      <td>2011</td>\n",
       "      <td>0.00118</td>\n",
       "      <td>0.673</td>\n",
       "      <td>0.773</td>\n",
       "      <td>0.000569</td>\n",
       "      <td>0.1480</td>\n",
       "      <td>-7.099</td>\n",
       "      <td>0.0576</td>\n",
       "      <td>124.999</td>\n",
       "      <td>0.265</td>\n",
       "      <td>1</td>\n",
       "      <td>8</td>\n",
       "      <td>48</td>\n",
       "      <td>0</td>\n",
       "      <td>8</td>\n",
       "    </tr>\n",
       "    <tr>\n",
       "      <th>93661</th>\n",
       "      <td>71sWzf54Q0EHF2SsMjjkI4</td>\n",
       "      <td>Muñeca Cruel</td>\n",
       "      <td>['Enrique Iglesias']</td>\n",
       "      <td>261000</td>\n",
       "      <td>11/21/95</td>\n",
       "      <td>1995</td>\n",
       "      <td>0.04780</td>\n",
       "      <td>0.721</td>\n",
       "      <td>0.812</td>\n",
       "      <td>0.000268</td>\n",
       "      <td>0.1590</td>\n",
       "      <td>-7.601</td>\n",
       "      <td>0.0263</td>\n",
       "      <td>112.097</td>\n",
       "      <td>0.951</td>\n",
       "      <td>1</td>\n",
       "      <td>9</td>\n",
       "      <td>48</td>\n",
       "      <td>0</td>\n",
       "      <td>8</td>\n",
       "    </tr>\n",
       "    <tr>\n",
       "      <th>95653</th>\n",
       "      <td>2vUZzKx2klI6KZfuhxDEhE</td>\n",
       "      <td>Nazdik Na Aana Na Mujhe Hath Lagana</td>\n",
       "      <td>['Geeta Dutt', 'S. D. Batish']</td>\n",
       "      <td>196325</td>\n",
       "      <td>12/31/52</td>\n",
       "      <td>1952</td>\n",
       "      <td>0.98600</td>\n",
       "      <td>0.714</td>\n",
       "      <td>0.431</td>\n",
       "      <td>0.007720</td>\n",
       "      <td>0.0907</td>\n",
       "      <td>-7.532</td>\n",
       "      <td>0.1110</td>\n",
       "      <td>80.904</td>\n",
       "      <td>0.886</td>\n",
       "      <td>0</td>\n",
       "      <td>7</td>\n",
       "      <td>0</td>\n",
       "      <td>0</td>\n",
       "      <td>8</td>\n",
       "    </tr>\n",
       "  </tbody>\n",
       "</table>\n",
       "</div>"
      ],
      "text/plain": [
       "                           id                                 name  \\\n",
       "54778  5MuNxNox3zTanAFIO5KcTl             He's the Greatest Dancer   \n",
       "13306  3DRH5iVqchXWQMZRPts3cr                         Barrio Pobre   \n",
       "25883  3jYW03V9XeM2w7LJ0EXQDC                  Cockiness (Love It)   \n",
       "93661  71sWzf54Q0EHF2SsMjjkI4                         Muñeca Cruel   \n",
       "95653  2vUZzKx2klI6KZfuhxDEhE  Nazdik Na Aana Na Mujhe Hath Lagana   \n",
       "\n",
       "                              artists  duration_ms release_date  year  \\\n",
       "54778               ['Sister Sledge']       375400     10/30/07  2007   \n",
       "13306              ['Cornelio Reyna']       183278     12/19/91  1991   \n",
       "25883                     ['Rihanna']       178027     11/19/11  2011   \n",
       "93661            ['Enrique Iglesias']       261000     11/21/95  1995   \n",
       "95653  ['Geeta Dutt', 'S. D. Batish']       196325     12/31/52  1952   \n",
       "\n",
       "       acousticness  danceability  energy  instrumentalness  liveness  \\\n",
       "54778       0.00115         0.700   0.816          0.001230    0.0901   \n",
       "13306       0.58500         0.479   0.260          0.000000    0.0580   \n",
       "25883       0.00118         0.673   0.773          0.000569    0.1480   \n",
       "93661       0.04780         0.721   0.812          0.000268    0.1590   \n",
       "95653       0.98600         0.714   0.431          0.007720    0.0907   \n",
       "\n",
       "       loudness  speechiness    tempo  valence  mode  key  popularity  \\\n",
       "54778    -9.711       0.0440  113.244    0.838     0    7          56   \n",
       "13306    -8.925       0.0640  170.063    0.676     1    9          34   \n",
       "25883    -7.099       0.0576  124.999    0.265     1    8          48   \n",
       "93661    -7.601       0.0263  112.097    0.951     1    9          48   \n",
       "95653    -7.532       0.1110   80.904    0.886     0    7           0   \n",
       "\n",
       "       explicit  release_date_length  \n",
       "54778         0                    8  \n",
       "13306         0                    8  \n",
       "25883         0                    8  \n",
       "93661         0                    8  \n",
       "95653         0                    8  "
      ]
     },
     "execution_count": 15,
     "metadata": {},
     "output_type": "execute_result"
    }
   ],
   "source": [
    "df[df['release_date_length'] == 8].sample(5)"
   ]
  },
  {
   "cell_type": "markdown",
   "metadata": {},
   "source": [
    "según la longitud:\n",
    "- `4`: solo tenemos información del año.\n",
    "- `6`: tenemos información de año, separadores y mes y día. en este caso, los meses y días tienen solo una cifra.\n",
    "- `7`: tenemos información de año, mes y día. o el mes o el día tienen 2 cifras.\n",
    "- `8`: tenemos información de año, mes y día. todos tienen 2 cifras.\n",
    "\n",
    "además hay que comprobar el tipo de delimitador que se usa para la fecha"
   ]
  },
  {
   "cell_type": "code",
   "execution_count": 16,
   "metadata": {},
   "outputs": [
    {
     "name": "stdout",
     "output_type": "stream",
     "text": [
      "0.9705309375128701 69.3767767072575\n"
     ]
    }
   ],
   "source": [
    "print((1 - (df.shape[0] - df['release_date'].str.contains('-').sum())/df.shape[0])*100, \n",
    "    (1 - (df.shape[0] - df['release_date'].str.contains('/').sum())/df.shape[0])*100)"
   ]
  },
  {
   "cell_type": "markdown",
   "metadata": {},
   "source": [
    "se va a actuar de formas distintas según la longitud del campo `release_date`"
   ]
  },
  {
   "cell_type": "code",
   "execution_count": 17,
   "metadata": {},
   "outputs": [],
   "source": [
    "df['month'] = ''\n",
    "df['day'] = ''"
   ]
  },
  {
   "cell_type": "markdown",
   "metadata": {},
   "source": [
    "#### largo del campo es 6\n",
    "como ya hemos dicho, el largo del campo es 4 -> el campo es directamente el año. forzaremos a que el primer día del mes sea el día de pulicación del disco."
   ]
  },
  {
   "cell_type": "code",
   "execution_count": 18,
   "metadata": {},
   "outputs": [
    {
     "data": {
      "text/plain": [
       "1/1/30    1047\n",
       "1/1/40    1008\n",
       "1/1/50     935\n",
       "1/1/55     770\n",
       "1/1/61     646\n",
       "          ... \n",
       "1/4/88       1\n",
       "3/8/60       1\n",
       "6/3/82       1\n",
       "2/9/95       1\n",
       "7/9/17       1\n",
       "Name: release_date, Length: 2573, dtype: int64"
      ]
     },
     "execution_count": 18,
     "metadata": {},
     "output_type": "execute_result"
    }
   ],
   "source": [
    "df_06 = df[df['release_date_length'] == 6]\n",
    "df_06['release_date'].value_counts()"
   ]
  },
  {
   "cell_type": "code",
   "execution_count": 19,
   "metadata": {},
   "outputs": [
    {
     "name": "stdout",
     "output_type": "stream",
     "text": [
      "0.0 100.0\n"
     ]
    }
   ],
   "source": [
    "### comprobar cual es el separador de los datos de fecha\n",
    "print((1 - (df_06.shape[0] - df_06['release_date'].str.contains('-').sum())/df_06.shape[0])*100, \n",
    "    (1 - (df_06.shape[0] - df_06['release_date'].str.contains('/').sum())/df_06.shape[0])*100)"
   ]
  },
  {
   "cell_type": "code",
   "execution_count": 20,
   "metadata": {},
   "outputs": [
    {
     "name": "stderr",
     "output_type": "stream",
     "text": [
      "C:\\Users\\annas\\AppData\\Local\\Temp\\ipykernel_23844\\67254662.py:1: SettingWithCopyWarning: \n",
      "A value is trying to be set on a copy of a slice from a DataFrame.\n",
      "Try using .loc[row_indexer,col_indexer] = value instead\n",
      "\n",
      "See the caveats in the documentation: https://pandas.pydata.org/pandas-docs/stable/user_guide/indexing.html#returning-a-view-versus-a-copy\n",
      "  df_06[['month', 'day', 'decade']] = df_06['release_date'].str.split('/', expand=True)\n",
      "C:\\Users\\annas\\AppData\\Local\\Temp\\ipykernel_23844\\67254662.py:1: SettingWithCopyWarning: \n",
      "A value is trying to be set on a copy of a slice from a DataFrame.\n",
      "Try using .loc[row_indexer,col_indexer] = value instead\n",
      "\n",
      "See the caveats in the documentation: https://pandas.pydata.org/pandas-docs/stable/user_guide/indexing.html#returning-a-view-versus-a-copy\n",
      "  df_06[['month', 'day', 'decade']] = df_06['release_date'].str.split('/', expand=True)\n"
     ]
    },
    {
     "data": {
      "text/plain": [
       "month  day  decade\n",
       "1      1    30        1047\n",
       "            40        1008\n",
       "            50         935\n",
       "            55         770\n",
       "            61         646\n",
       "                      ... \n",
       "7      6    95           1\n",
       "3      4    10           1\n",
       "            19           1\n",
       "7      7    16           1\n",
       "6      8    68           1\n",
       "Length: 2573, dtype: int64"
      ]
     },
     "execution_count": 20,
     "metadata": {},
     "output_type": "execute_result"
    }
   ],
   "source": [
    "df_06[['month', 'day', 'decade']] = df_06['release_date'].str.split('/', expand=True)\n",
    "df_06[['month', 'day', 'decade']].value_counts()"
   ]
  },
  {
   "cell_type": "code",
   "execution_count": 21,
   "metadata": {},
   "outputs": [
    {
     "data": {
      "text/plain": [
       "array(['1', '2', '6', '7', '5', '3', '9', '8', '4'], dtype=object)"
      ]
     },
     "execution_count": 21,
     "metadata": {},
     "output_type": "execute_result"
    }
   ],
   "source": [
    "df_06['day'].unique()"
   ]
  },
  {
   "cell_type": "code",
   "execution_count": 22,
   "metadata": {},
   "outputs": [
    {
     "data": {
      "text/plain": [
       "array(['1', '3', '8', '2', '9', '7', '4', '6', '5'], dtype=object)"
      ]
     },
     "execution_count": 22,
     "metadata": {},
     "output_type": "execute_result"
    }
   ],
   "source": [
    "df_06['month'].unique()"
   ]
  },
  {
   "cell_type": "code",
   "execution_count": 23,
   "metadata": {},
   "outputs": [
    {
     "data": {
      "text/plain": [
       "array(['12', '61', '52', '64', '53', '28', '77', '73', '07', '94', '00',\n",
       "       '14', '13', '78', '08', '15', '69', '87', '93', '79', '81', '90',\n",
       "       '57', '59', '58', '56', '95', '51', '97', '88', '55', '54', '01',\n",
       "       '85', '09', '80', '83', '11', '76', '63', '72', '66', '60', '86',\n",
       "       '68', '70', '62', '03', '84', '91', '20', '96', '99', '75', '46',\n",
       "       '82', '05', '65', '67', '71', '04', '74', '92', '89', '10', '16',\n",
       "       '06', '44', '18', '17', '19', '02', '40', '49', '98', '48', '50',\n",
       "       '29', '30', '45', '39', '27', '26', '33', '41', '36', '24', '34',\n",
       "       '32', '31', '35', '42', '47', '43', '25', '38', '37', '23'],\n",
       "      dtype=object)"
      ]
     },
     "execution_count": 23,
     "metadata": {},
     "output_type": "execute_result"
    }
   ],
   "source": [
    "df_06['decade'].unique()"
   ]
  },
  {
   "cell_type": "code",
   "execution_count": 24,
   "metadata": {},
   "outputs": [
    {
     "name": "stderr",
     "output_type": "stream",
     "text": [
      "C:\\Users\\annas\\AppData\\Local\\Temp\\ipykernel_23844\\2783625972.py:1: SettingWithCopyWarning: \n",
      "A value is trying to be set on a copy of a slice from a DataFrame.\n",
      "Try using .loc[row_indexer,col_indexer] = value instead\n",
      "\n",
      "See the caveats in the documentation: https://pandas.pydata.org/pandas-docs/stable/user_guide/indexing.html#returning-a-view-versus-a-copy\n",
      "  df_06['date'] = df_06['day'] + '/' + df_06['month'] + '/' + df_06['year'].astype(str)\n"
     ]
    },
    {
     "data": {
      "text/plain": [
       "1/1/1930    1047\n",
       "1/1/1940    1008\n",
       "1/1/1950     935\n",
       "1/1/1955     770\n",
       "1/1/1961     646\n",
       "            ... \n",
       "4/1/1988       1\n",
       "8/3/1960       1\n",
       "3/6/1982       1\n",
       "9/2/1995       1\n",
       "9/7/2017       1\n",
       "Name: date, Length: 2573, dtype: int64"
      ]
     },
     "execution_count": 24,
     "metadata": {},
     "output_type": "execute_result"
    }
   ],
   "source": [
    "df_06['date'] = df_06['day'] + '/' + df_06['month'] + '/' + df_06['year'].astype(str)\n",
    "df_06['date'].value_counts()"
   ]
  },
  {
   "cell_type": "code",
   "execution_count": null,
   "metadata": {},
   "outputs": [],
   "source": []
  },
  {
   "cell_type": "markdown",
   "metadata": {},
   "source": [
    "### largo del campo es 7\n",
    "como ya hemos dicho, el largo del campo es 7 -> el campo contiene todos los elementos de fecha. forzaremos a que el primer día del mes sea el día de pulicación del disco."
   ]
  },
  {
   "cell_type": "code",
   "execution_count": 25,
   "metadata": {},
   "outputs": [
    {
     "data": {
      "text/plain": [
       "12/1/52    148\n",
       "6/12/20    145\n",
       "12/1/47    134\n",
       "12/1/48    110\n",
       "12/1/49    103\n",
       "          ... \n",
       "1/31/07      1\n",
       "9/14/07      1\n",
       "1/16/41      1\n",
       "10/7/13      1\n",
       "4/19/04      1\n",
       "Name: release_date, Length: 6426, dtype: int64"
      ]
     },
     "execution_count": 25,
     "metadata": {},
     "output_type": "execute_result"
    }
   ],
   "source": [
    "df_07 = df[df['release_date_length'] == 7]\n",
    "df_07['release_date'].value_counts()"
   ]
  },
  {
   "cell_type": "code",
   "execution_count": 26,
   "metadata": {},
   "outputs": [
    {
     "name": "stdout",
     "output_type": "stream",
     "text": [
      "3.284075519796059 96.71592448020394\n"
     ]
    }
   ],
   "source": [
    "### comprobar cual es el separador de los datos de fecha\n",
    "print((1 - (df_07.shape[0] - df_07['release_date'].str.contains('-').sum())/df_07.shape[0])*100, \n",
    "    (1 - (df_07.shape[0] - df_07['release_date'].str.contains('/').sum())/df_07.shape[0])*100)"
   ]
  },
  {
   "cell_type": "markdown",
   "metadata": {},
   "source": [
    "#### separador `-`\n",
    "aparece el caracter `-` como separador, por lo que tendremos que separar el dataframe"
   ]
  },
  {
   "cell_type": "code",
   "execution_count": 27,
   "metadata": {},
   "outputs": [
    {
     "name": "stdout",
     "output_type": "stream",
     "text": [
      "(1649, 22)\n"
     ]
    },
    {
     "data": {
      "text/html": [
       "<div>\n",
       "<style scoped>\n",
       "    .dataframe tbody tr th:only-of-type {\n",
       "        vertical-align: middle;\n",
       "    }\n",
       "\n",
       "    .dataframe tbody tr th {\n",
       "        vertical-align: top;\n",
       "    }\n",
       "\n",
       "    .dataframe thead th {\n",
       "        text-align: right;\n",
       "    }\n",
       "</style>\n",
       "<table border=\"1\" class=\"dataframe\">\n",
       "  <thead>\n",
       "    <tr style=\"text-align: right;\">\n",
       "      <th></th>\n",
       "      <th>id</th>\n",
       "      <th>name</th>\n",
       "      <th>artists</th>\n",
       "      <th>duration_ms</th>\n",
       "      <th>release_date</th>\n",
       "      <th>year</th>\n",
       "      <th>acousticness</th>\n",
       "      <th>danceability</th>\n",
       "      <th>energy</th>\n",
       "      <th>instrumentalness</th>\n",
       "      <th>liveness</th>\n",
       "      <th>loudness</th>\n",
       "      <th>speechiness</th>\n",
       "      <th>tempo</th>\n",
       "      <th>valence</th>\n",
       "      <th>mode</th>\n",
       "      <th>key</th>\n",
       "      <th>popularity</th>\n",
       "      <th>explicit</th>\n",
       "      <th>release_date_length</th>\n",
       "      <th>month</th>\n",
       "      <th>day</th>\n",
       "    </tr>\n",
       "  </thead>\n",
       "  <tbody>\n",
       "    <tr>\n",
       "      <th>140</th>\n",
       "      <td>1cHxcl608r9sfaHaishns3</td>\n",
       "      <td>'Deed I Do</td>\n",
       "      <td>['Ella Fitzgerald']</td>\n",
       "      <td>162667</td>\n",
       "      <td>1963-09</td>\n",
       "      <td>1963</td>\n",
       "      <td>0.802</td>\n",
       "      <td>0.525</td>\n",
       "      <td>0.26</td>\n",
       "      <td>0.0</td>\n",
       "      <td>0.202</td>\n",
       "      <td>-12.79</td>\n",
       "      <td>0.042</td>\n",
       "      <td>117.466</td>\n",
       "      <td>0.446</td>\n",
       "      <td>0</td>\n",
       "      <td>0</td>\n",
       "      <td>25</td>\n",
       "      <td>0</td>\n",
       "      <td>7</td>\n",
       "      <td></td>\n",
       "      <td></td>\n",
       "    </tr>\n",
       "  </tbody>\n",
       "</table>\n",
       "</div>"
      ],
      "text/plain": [
       "                         id        name              artists  duration_ms  \\\n",
       "140  1cHxcl608r9sfaHaishns3  'Deed I Do  ['Ella Fitzgerald']       162667   \n",
       "\n",
       "    release_date  year  acousticness  danceability  energy  instrumentalness  \\\n",
       "140      1963-09  1963         0.802         0.525    0.26               0.0   \n",
       "\n",
       "     liveness  loudness  speechiness    tempo  valence  mode  key  popularity  \\\n",
       "140     0.202    -12.79        0.042  117.466    0.446     0    0          25   \n",
       "\n",
       "     explicit  release_date_length month day  \n",
       "140         0                    7            "
      ]
     },
     "execution_count": 27,
     "metadata": {},
     "output_type": "execute_result"
    }
   ],
   "source": [
    "df_07_guion = df_07[df_07['release_date'].str.contains('-')]\n",
    "print(df_07_guion.shape)\n",
    "df_07_guion.head(1)"
   ]
  },
  {
   "cell_type": "code",
   "execution_count": 28,
   "metadata": {},
   "outputs": [
    {
     "name": "stderr",
     "output_type": "stream",
     "text": [
      "C:\\Users\\annas\\AppData\\Local\\Temp\\ipykernel_23844\\3575440809.py:1: SettingWithCopyWarning: \n",
      "A value is trying to be set on a copy of a slice from a DataFrame.\n",
      "Try using .loc[row_indexer,col_indexer] = value instead\n",
      "\n",
      "See the caveats in the documentation: https://pandas.pydata.org/pandas-docs/stable/user_guide/indexing.html#returning-a-view-versus-a-copy\n",
      "  df_07_guion[['decade', 'month']] = df_07_guion['release_date'].str.split('-', expand=True)\n"
     ]
    },
    {
     "data": {
      "text/plain": [
       "decade  month\n",
       "1970    02       54\n",
       "1966    03       51\n",
       "1957    03       34\n",
       "1963    08       33\n",
       "1957    09       30\n",
       "                 ..\n",
       "1977    10        1\n",
       "1974    10        1\n",
       "1973    02        1\n",
       "1970    11        1\n",
       "2003    01        1\n",
       "Length: 187, dtype: int64"
      ]
     },
     "execution_count": 28,
     "metadata": {},
     "output_type": "execute_result"
    }
   ],
   "source": [
    "df_07_guion[['decade', 'month']] = df_07_guion['release_date'].str.split('-', expand=True)\n",
    "df_07_guion[['decade', 'month']] .value_counts()"
   ]
  },
  {
   "cell_type": "code",
   "execution_count": 29,
   "metadata": {},
   "outputs": [
    {
     "data": {
      "text/plain": [
       "array(['09', '08', '07', '12', '03', '10', '06', '11', '04', '02', '01',\n",
       "       '05'], dtype=object)"
      ]
     },
     "execution_count": 29,
     "metadata": {},
     "output_type": "execute_result"
    }
   ],
   "source": [
    "df_07_guion['month'].unique()"
   ]
  },
  {
   "cell_type": "code",
   "execution_count": 30,
   "metadata": {},
   "outputs": [
    {
     "data": {
      "text/plain": [
       "array(['1963', '1969', '1967', '1971', '1977', '1992', '1979', '1964',\n",
       "       '1975', '1960', '1959', '1966', '1962', '1981', '1965', '1984',\n",
       "       '1987', '1968', '1974', '1985', '1957', '1970', '1978', '1988',\n",
       "       '1973', '1972', '1961', '1956', '1986', '1958', '1980', '1982',\n",
       "       '1976', '1994', '1995', '1990', '1983', '1991', '1989', '2003',\n",
       "       '1997', '1996'], dtype=object)"
      ]
     },
     "execution_count": 30,
     "metadata": {},
     "output_type": "execute_result"
    }
   ],
   "source": [
    "df_07_guion['decade'].unique()"
   ]
  },
  {
   "cell_type": "code",
   "execution_count": 31,
   "metadata": {},
   "outputs": [
    {
     "name": "stderr",
     "output_type": "stream",
     "text": [
      "C:\\Users\\annas\\AppData\\Local\\Temp\\ipykernel_23844\\1997061340.py:1: SettingWithCopyWarning: \n",
      "A value is trying to be set on a copy of a slice from a DataFrame.\n",
      "Try using .loc[row_indexer,col_indexer] = value instead\n",
      "\n",
      "See the caveats in the documentation: https://pandas.pydata.org/pandas-docs/stable/user_guide/indexing.html#returning-a-view-versus-a-copy\n",
      "  df_07_guion['date'] = '01/' + df_07_guion['month'] + '/' + df_07_guion['year'].astype(str)\n"
     ]
    },
    {
     "data": {
      "text/plain": [
       "01/02/1970    54\n",
       "01/03/1966    51\n",
       "01/03/1957    34\n",
       "01/08/1963    33\n",
       "01/09/1957    30\n",
       "              ..\n",
       "01/11/1987     1\n",
       "01/09/1971     1\n",
       "01/10/1977     1\n",
       "01/01/1979     1\n",
       "01/04/1987     1\n",
       "Name: date, Length: 187, dtype: int64"
      ]
     },
     "execution_count": 31,
     "metadata": {},
     "output_type": "execute_result"
    }
   ],
   "source": [
    "df_07_guion['date'] = '01/' + df_07_guion['month'] + '/' + df_07_guion['year'].astype(str)\n",
    "df_07_guion['date'].value_counts()"
   ]
  },
  {
   "cell_type": "markdown",
   "metadata": {},
   "source": [
    "#### separador `/`\n",
    "ahora trataré los datos que tienene  `/` como separador"
   ]
  },
  {
   "cell_type": "code",
   "execution_count": 32,
   "metadata": {},
   "outputs": [
    {
     "name": "stdout",
     "output_type": "stream",
     "text": [
      "(48563, 22)\n"
     ]
    },
    {
     "data": {
      "text/html": [
       "<div>\n",
       "<style scoped>\n",
       "    .dataframe tbody tr th:only-of-type {\n",
       "        vertical-align: middle;\n",
       "    }\n",
       "\n",
       "    .dataframe tbody tr th {\n",
       "        vertical-align: top;\n",
       "    }\n",
       "\n",
       "    .dataframe thead th {\n",
       "        text-align: right;\n",
       "    }\n",
       "</style>\n",
       "<table border=\"1\" class=\"dataframe\">\n",
       "  <thead>\n",
       "    <tr style=\"text-align: right;\">\n",
       "      <th></th>\n",
       "      <th>id</th>\n",
       "      <th>name</th>\n",
       "      <th>artists</th>\n",
       "      <th>duration_ms</th>\n",
       "      <th>release_date</th>\n",
       "      <th>year</th>\n",
       "      <th>acousticness</th>\n",
       "      <th>danceability</th>\n",
       "      <th>energy</th>\n",
       "      <th>instrumentalness</th>\n",
       "      <th>liveness</th>\n",
       "      <th>loudness</th>\n",
       "      <th>speechiness</th>\n",
       "      <th>tempo</th>\n",
       "      <th>valence</th>\n",
       "      <th>mode</th>\n",
       "      <th>key</th>\n",
       "      <th>popularity</th>\n",
       "      <th>explicit</th>\n",
       "      <th>release_date_length</th>\n",
       "      <th>month</th>\n",
       "      <th>day</th>\n",
       "    </tr>\n",
       "  </thead>\n",
       "  <tbody>\n",
       "    <tr>\n",
       "      <th>0</th>\n",
       "      <td>0gNNToCW3qjabgTyBSjt3H</td>\n",
       "      <td>!Que Vida! - Mono Version</td>\n",
       "      <td>['Love']</td>\n",
       "      <td>220560</td>\n",
       "      <td>11/1/66</td>\n",
       "      <td>1966</td>\n",
       "      <td>0.525</td>\n",
       "      <td>0.6</td>\n",
       "      <td>0.54</td>\n",
       "      <td>0.00305</td>\n",
       "      <td>0.1</td>\n",
       "      <td>-11.803</td>\n",
       "      <td>0.0328</td>\n",
       "      <td>125.898</td>\n",
       "      <td>0.547</td>\n",
       "      <td>1</td>\n",
       "      <td>9</td>\n",
       "      <td>26</td>\n",
       "      <td>0</td>\n",
       "      <td>7</td>\n",
       "      <td></td>\n",
       "      <td></td>\n",
       "    </tr>\n",
       "  </tbody>\n",
       "</table>\n",
       "</div>"
      ],
      "text/plain": [
       "                       id                       name   artists  duration_ms  \\\n",
       "0  0gNNToCW3qjabgTyBSjt3H  !Que Vida! - Mono Version  ['Love']       220560   \n",
       "\n",
       "  release_date  year  acousticness  danceability  energy  instrumentalness  \\\n",
       "0      11/1/66  1966         0.525           0.6    0.54           0.00305   \n",
       "\n",
       "   liveness  loudness  speechiness    tempo  valence  mode  key  popularity  \\\n",
       "0       0.1   -11.803       0.0328  125.898    0.547     1    9          26   \n",
       "\n",
       "   explicit  release_date_length month day  \n",
       "0         0                    7            "
      ]
     },
     "execution_count": 32,
     "metadata": {},
     "output_type": "execute_result"
    }
   ],
   "source": [
    "df_07_barra = df_07[df_07['release_date'].str.contains('/')]\n",
    "print(df_07_barra.shape)\n",
    "df_07_barra.head(1)"
   ]
  },
  {
   "cell_type": "code",
   "execution_count": 33,
   "metadata": {},
   "outputs": [
    {
     "name": "stderr",
     "output_type": "stream",
     "text": [
      "C:\\Users\\annas\\AppData\\Local\\Temp\\ipykernel_23844\\949077870.py:1: SettingWithCopyWarning: \n",
      "A value is trying to be set on a copy of a slice from a DataFrame.\n",
      "Try using .loc[row_indexer,col_indexer] = value instead\n",
      "\n",
      "See the caveats in the documentation: https://pandas.pydata.org/pandas-docs/stable/user_guide/indexing.html#returning-a-view-versus-a-copy\n",
      "  df_07_barra[['month', 'day', 'decade']] = df_07_barra['release_date'].str.split('/', expand=True)\n",
      "C:\\Users\\annas\\AppData\\Local\\Temp\\ipykernel_23844\\949077870.py:1: SettingWithCopyWarning: \n",
      "A value is trying to be set on a copy of a slice from a DataFrame.\n",
      "Try using .loc[row_indexer,col_indexer] = value instead\n",
      "\n",
      "See the caveats in the documentation: https://pandas.pydata.org/pandas-docs/stable/user_guide/indexing.html#returning-a-view-versus-a-copy\n",
      "  df_07_barra[['month', 'day', 'decade']] = df_07_barra['release_date'].str.split('/', expand=True)\n"
     ]
    },
    {
     "data": {
      "text/plain": [
       "month  day  decade\n",
       "12     1    52        148\n",
       "6      12   20        145\n",
       "12     1    47        134\n",
       "            48        110\n",
       "6      16   66        103\n",
       "                     ... \n",
       "7      14   38          1\n",
       "2      28   03          1\n",
       "7      14   10          1\n",
       "2      28   05          1\n",
       "4      27   92          1\n",
       "Length: 6239, dtype: int64"
      ]
     },
     "execution_count": 33,
     "metadata": {},
     "output_type": "execute_result"
    }
   ],
   "source": [
    "df_07_barra[['month', 'day', 'decade']] = df_07_barra['release_date'].str.split('/', expand=True)\n",
    "df_07_barra[['month', 'day', 'decade']] .value_counts()"
   ]
  },
  {
   "cell_type": "code",
   "execution_count": 34,
   "metadata": {},
   "outputs": [
    {
     "data": {
      "text/plain": [
       "array(['11', '2', '8', '3', '7', '5', '1', '12', '6', '9', '4', '10'],\n",
       "      dtype=object)"
      ]
     },
     "execution_count": 34,
     "metadata": {},
     "output_type": "execute_result"
    }
   ],
   "source": [
    "df_07_barra['month'].unique() ## el campo de me tiene que tener hasta 12 calores"
   ]
  },
  {
   "cell_type": "code",
   "execution_count": 35,
   "metadata": {},
   "outputs": [
    {
     "data": {
      "text/plain": [
       "array(['1', '28', '20', '31', '25', '12', '14', '8', '21', '10', '24',\n",
       "       '27', '30', '26', '4', '16', '15', '23', '3', '6', '19', '18',\n",
       "       '17', '13', '22', '9', '29', '11', '7', '2', '5'], dtype=object)"
      ]
     },
     "execution_count": 35,
     "metadata": {},
     "output_type": "execute_result"
    }
   ],
   "source": [
    "df_07_barra['day'].unique() ## el campo de día tiene que tener hasta 31 valores"
   ]
  },
  {
   "cell_type": "code",
   "execution_count": 36,
   "metadata": {},
   "outputs": [
    {
     "data": {
      "text/plain": [
       "array(['66', '83', '78', '05', '95', '64', '72', '71', '55', '02', '84',\n",
       "       '94', '96', '99', '74', '14', '20', '13', '18', '15', '11', '17',\n",
       "       '93', '70', '88', '48', '97', '04', '59', '54', '53', '56', '57',\n",
       "       '73', '79', '82', '08', '12', '63', '03', '90', '91', '98', '86',\n",
       "       '75', '00', '92', '65', '67', '62', '47', '87', '76', '89', '09',\n",
       "       '58', '77', '68', '07', '10', '52', '61', '80', '06', '19', '44',\n",
       "       '16', '37', '60', '69', '85', '30', '38', '01', '81', '45', '28',\n",
       "       '24', '35', '40', '26', '21', '29', '51', '42', '39', '41', '27',\n",
       "       '36', '32', '46', '50', '49', '34', '31', '43', '25', '33', '23',\n",
       "       '22'], dtype=object)"
      ]
     },
     "execution_count": 36,
     "metadata": {},
     "output_type": "execute_result"
    }
   ],
   "source": [
    "df_07_barra['decade'].unique()"
   ]
  },
  {
   "cell_type": "code",
   "execution_count": 37,
   "metadata": {},
   "outputs": [
    {
     "name": "stderr",
     "output_type": "stream",
     "text": [
      "C:\\Users\\annas\\AppData\\Local\\Temp\\ipykernel_23844\\3754407283.py:1: SettingWithCopyWarning: \n",
      "A value is trying to be set on a copy of a slice from a DataFrame.\n",
      "Try using .loc[row_indexer,col_indexer] = value instead\n",
      "\n",
      "See the caveats in the documentation: https://pandas.pydata.org/pandas-docs/stable/user_guide/indexing.html#returning-a-view-versus-a-copy\n",
      "  df_07_barra['date'] = df_07_barra['day'] + '/' + df_07_barra['month'] + '/' + df_07_barra['year'].astype(str)\n"
     ]
    },
    {
     "data": {
      "text/plain": [
       "1/12/1952    148\n",
       "12/6/2020    145\n",
       "1/12/1947    134\n",
       "1/12/1948    110\n",
       "16/6/1966    103\n",
       "            ... \n",
       "10/9/1990      1\n",
       "28/7/2006      1\n",
       "20/5/1968      1\n",
       "25/7/1974      1\n",
       "19/4/2004      1\n",
       "Name: date, Length: 6239, dtype: int64"
      ]
     },
     "execution_count": 37,
     "metadata": {},
     "output_type": "execute_result"
    }
   ],
   "source": [
    "df_07_barra['date'] = df_07_barra['day'] + '/' + df_07_barra['month'] + '/' + df_07_barra['year'].astype(str)\n",
    "df_07_barra['date'].value_counts()"
   ]
  },
  {
   "cell_type": "markdown",
   "metadata": {},
   "source": [
    "### largo del campo es 8\n",
    "como ya hemos dicho, el largo del campo es 4 -> el campo es directamente el año. forzaremos a que el primer día del mes sea el día de pulicación del disco."
   ]
  },
  {
   "cell_type": "code",
   "execution_count": 38,
   "metadata": {},
   "outputs": [
    {
     "data": {
      "text/plain": [
       "11/13/42    384\n",
       "12/31/48    267\n",
       "12/31/47    239\n",
       "12/31/49    182\n",
       "12/31/43    149\n",
       "           ... \n",
       "12/12/86      1\n",
       "12/31/98      1\n",
       "12/15/90      1\n",
       "10/10/84      1\n",
       "12/25/00      1\n",
       "Name: release_date, Length: 1786, dtype: int64"
      ]
     },
     "execution_count": 38,
     "metadata": {},
     "output_type": "execute_result"
    }
   ],
   "source": [
    "df_08 = df[df['release_date_length'] == 8]\n",
    "df_08['release_date'].value_counts()"
   ]
  },
  {
   "cell_type": "code",
   "execution_count": 39,
   "metadata": {},
   "outputs": [
    {
     "name": "stdout",
     "output_type": "stream",
     "text": [
      "0.0 100.0\n"
     ]
    }
   ],
   "source": [
    "### comprobar cual es el separador de los datos de fecha\n",
    "print((1 - (df_08.shape[0] - df_08['release_date'].str.contains('-').sum())/df_08.shape[0])*100, \n",
    "    (1 - (df_08.shape[0] - df_08['release_date'].str.contains('/').sum())/df_08.shape[0])*100)\n",
    "##no hay valores raros, podemos continuar con el procedimiento habitual"
   ]
  },
  {
   "cell_type": "code",
   "execution_count": 40,
   "metadata": {},
   "outputs": [
    {
     "name": "stderr",
     "output_type": "stream",
     "text": [
      "C:\\Users\\annas\\AppData\\Local\\Temp\\ipykernel_23844\\2783975961.py:1: SettingWithCopyWarning: \n",
      "A value is trying to be set on a copy of a slice from a DataFrame.\n",
      "Try using .loc[row_indexer,col_indexer] = value instead\n",
      "\n",
      "See the caveats in the documentation: https://pandas.pydata.org/pandas-docs/stable/user_guide/indexing.html#returning-a-view-versus-a-copy\n",
      "  df_08[['month', 'day', 'decade']] = df_08['release_date'].str.split('/', expand=True)\n",
      "C:\\Users\\annas\\AppData\\Local\\Temp\\ipykernel_23844\\2783975961.py:1: SettingWithCopyWarning: \n",
      "A value is trying to be set on a copy of a slice from a DataFrame.\n",
      "Try using .loc[row_indexer,col_indexer] = value instead\n",
      "\n",
      "See the caveats in the documentation: https://pandas.pydata.org/pandas-docs/stable/user_guide/indexing.html#returning-a-view-versus-a-copy\n",
      "  df_08[['month', 'day', 'decade']] = df_08['release_date'].str.split('/', expand=True)\n"
     ]
    },
    {
     "data": {
      "text/plain": [
       "month  day  decade\n",
       "11     13   42        384\n",
       "12     31   48        267\n",
       "            47        239\n",
       "            49        182\n",
       "            43        149\n",
       "                     ... \n",
       "       13   14          1\n",
       "10     17   74          1\n",
       "12     13   10          1\n",
       "11     17   91          1\n",
       "10     16   05          1\n",
       "Length: 1786, dtype: int64"
      ]
     },
     "execution_count": 40,
     "metadata": {},
     "output_type": "execute_result"
    }
   ],
   "source": [
    "df_08[['month', 'day', 'decade']] = df_08['release_date'].str.split('/', expand=True)\n",
    "df_08[['month', 'day', 'decade']] .value_counts()"
   ]
  },
  {
   "cell_type": "code",
   "execution_count": 41,
   "metadata": {},
   "outputs": [
    {
     "data": {
      "text/plain": [
       "array(['11', '12', '10'], dtype=object)"
      ]
     },
     "execution_count": 41,
     "metadata": {},
     "output_type": "execute_result"
    }
   ],
   "source": [
    "df_08['month'].unique() ## el campo de me tiene que tener hasta 12 calores"
   ]
  },
  {
   "cell_type": "code",
   "execution_count": 42,
   "metadata": {},
   "outputs": [
    {
     "data": {
      "text/plain": [
       "array(['28', '17', '10', '15', '22', '21', '13', '11', '12', '16', '18',\n",
       "       '23', '25', '20', '26', '31', '19', '14', '30', '29', '24', '27'],\n",
       "      dtype=object)"
      ]
     },
     "execution_count": 42,
     "metadata": {},
     "output_type": "execute_result"
    }
   ],
   "source": [
    "df_08['day'].unique() ## el campo de día tiene que tener hasta 31 valores"
   ]
  },
  {
   "cell_type": "code",
   "execution_count": 43,
   "metadata": {},
   "outputs": [
    {
     "data": {
      "text/plain": [
       "array(['14', '15', '13', '17', '75', '42', '70', '88', '58', '51', '66',\n",
       "       '08', '78', '05', '98', '71', '03', '93', '81', '83', '63', '80',\n",
       "       '11', '74', '62', '59', '04', '07', '57', '86', '09', '77', '55',\n",
       "       '89', '00', '68', '16', '02', '99', '18', '10', '19', '01', '12',\n",
       "       '97', '31', '82', '85', '64', '69', '96', '92', '73', '90', '95',\n",
       "       '67', '34', '87', '76', '60', '94', '39', '91', '29', '84', '30',\n",
       "       '06', '72', '61', '48', '45', '40', '38', '46', '37', '50', '53',\n",
       "       '43', '47', '52', '65', '41', '49', '54', '44', '36', '32', '56',\n",
       "       '79', '24', '33', '35', '25', '21', '23'], dtype=object)"
      ]
     },
     "execution_count": 43,
     "metadata": {},
     "output_type": "execute_result"
    }
   ],
   "source": [
    "df_08['decade'].unique()"
   ]
  },
  {
   "cell_type": "code",
   "execution_count": 44,
   "metadata": {},
   "outputs": [
    {
     "name": "stderr",
     "output_type": "stream",
     "text": [
      "C:\\Users\\annas\\AppData\\Local\\Temp\\ipykernel_23844\\4173872011.py:1: SettingWithCopyWarning: \n",
      "A value is trying to be set on a copy of a slice from a DataFrame.\n",
      "Try using .loc[row_indexer,col_indexer] = value instead\n",
      "\n",
      "See the caveats in the documentation: https://pandas.pydata.org/pandas-docs/stable/user_guide/indexing.html#returning-a-view-versus-a-copy\n",
      "  df_08['date'] = df_08['day'] + '/' + df_08['month'] + '/' + df_08['year'].astype(str)\n"
     ]
    },
    {
     "data": {
      "text/plain": [
       "13/11/1942    384\n",
       "31/12/1948    267\n",
       "31/12/1947    239\n",
       "31/12/1949    182\n",
       "31/12/1943    149\n",
       "             ... \n",
       "12/12/1986      1\n",
       "31/12/1998      1\n",
       "15/12/1990      1\n",
       "10/10/1984      1\n",
       "25/12/2000      1\n",
       "Name: date, Length: 1786, dtype: int64"
      ]
     },
     "execution_count": 44,
     "metadata": {},
     "output_type": "execute_result"
    }
   ],
   "source": [
    "df_08['date'] = df_08['day'] + '/' + df_08['month'] + '/' + df_08['year'].astype(str)\n",
    "df_08['date'].value_counts()"
   ]
  },
  {
   "cell_type": "markdown",
   "metadata": {},
   "source": [
    "### largo del campo es 4\n",
    "como ya hemos dicho, el largo del campo es 4 -> el campo es directamente el año. forzaremos a que el primer día del mes sea el día de pulicación del disco."
   ]
  },
  {
   "cell_type": "code",
   "execution_count": 45,
   "metadata": {},
   "outputs": [
    {
     "data": {
      "text/plain": [
       "1945    1449\n",
       "1949    1254\n",
       "1935    1123\n",
       "1948    1052\n",
       "1951     986\n",
       "        ... \n",
       "2014      37\n",
       "1922      27\n",
       "2015      12\n",
       "2016       5\n",
       "2017       4\n",
       "Name: release_date, Length: 97, dtype: int64"
      ]
     },
     "execution_count": 45,
     "metadata": {},
     "output_type": "execute_result"
    }
   ],
   "source": [
    "df_04 = df[df['release_date_length'] == 4]\n",
    "df_04['release_date'].value_counts()"
   ]
  },
  {
   "cell_type": "code",
   "execution_count": 46,
   "metadata": {},
   "outputs": [
    {
     "name": "stdout",
     "output_type": "stream",
     "text": [
      "0.0 0.0\n"
     ]
    }
   ],
   "source": [
    "### comprobar cual es el separador de los datos de fecha -- > en este caso tiene que ser nulo\n",
    "print((1 - (df_04.shape[0] - df_04['release_date'].str.contains('-').sum())/df_04.shape[0])*100, \n",
    "    (1 - (df_04.shape[0] - df_04['release_date'].str.contains('/').sum())/df_04.shape[0])*100)"
   ]
  },
  {
   "cell_type": "code",
   "execution_count": 47,
   "metadata": {},
   "outputs": [
    {
     "name": "stdout",
     "output_type": "stream",
     "text": [
      "(50382, 22)\n"
     ]
    },
    {
     "data": {
      "text/html": [
       "<div>\n",
       "<style scoped>\n",
       "    .dataframe tbody tr th:only-of-type {\n",
       "        vertical-align: middle;\n",
       "    }\n",
       "\n",
       "    .dataframe tbody tr th {\n",
       "        vertical-align: top;\n",
       "    }\n",
       "\n",
       "    .dataframe thead th {\n",
       "        text-align: right;\n",
       "    }\n",
       "</style>\n",
       "<table border=\"1\" class=\"dataframe\">\n",
       "  <thead>\n",
       "    <tr style=\"text-align: right;\">\n",
       "      <th></th>\n",
       "      <th>id</th>\n",
       "      <th>name</th>\n",
       "      <th>artists</th>\n",
       "      <th>duration_ms</th>\n",
       "      <th>release_date</th>\n",
       "      <th>year</th>\n",
       "      <th>acousticness</th>\n",
       "      <th>danceability</th>\n",
       "      <th>energy</th>\n",
       "      <th>instrumentalness</th>\n",
       "      <th>liveness</th>\n",
       "      <th>loudness</th>\n",
       "      <th>speechiness</th>\n",
       "      <th>tempo</th>\n",
       "      <th>valence</th>\n",
       "      <th>mode</th>\n",
       "      <th>key</th>\n",
       "      <th>popularity</th>\n",
       "      <th>explicit</th>\n",
       "      <th>release_date_length</th>\n",
       "      <th>month</th>\n",
       "      <th>day</th>\n",
       "    </tr>\n",
       "  </thead>\n",
       "  <tbody>\n",
       "    <tr>\n",
       "      <th>152554</th>\n",
       "      <td>19oDwfNgvYD8OzE8j00Zve</td>\n",
       "      <td>Verdi : Ernani : Part 4: La maschera \"Elvira!....</td>\n",
       "      <td>['Giuseppe Verdi', 'Fernando Previtali', 'Cate...</td>\n",
       "      <td>101160</td>\n",
       "      <td>1951</td>\n",
       "      <td>1951</td>\n",
       "      <td>0.987</td>\n",
       "      <td>0.327</td>\n",
       "      <td>0.178</td>\n",
       "      <td>0.026900</td>\n",
       "      <td>0.331</td>\n",
       "      <td>-14.580</td>\n",
       "      <td>0.0515</td>\n",
       "      <td>89.860</td>\n",
       "      <td>0.081</td>\n",
       "      <td>1</td>\n",
       "      <td>7</td>\n",
       "      <td>0</td>\n",
       "      <td>0</td>\n",
       "      <td>4</td>\n",
       "      <td></td>\n",
       "      <td></td>\n",
       "    </tr>\n",
       "    <tr>\n",
       "      <th>121252</th>\n",
       "      <td>0md3dDLRwrsgBQ59CfgmXO</td>\n",
       "      <td>She's Got to Be a Saint</td>\n",
       "      <td>['Ray Price']</td>\n",
       "      <td>228267</td>\n",
       "      <td>1956</td>\n",
       "      <td>1956</td>\n",
       "      <td>0.858</td>\n",
       "      <td>0.414</td>\n",
       "      <td>0.299</td>\n",
       "      <td>0.212000</td>\n",
       "      <td>0.128</td>\n",
       "      <td>-12.293</td>\n",
       "      <td>0.0303</td>\n",
       "      <td>88.516</td>\n",
       "      <td>0.447</td>\n",
       "      <td>1</td>\n",
       "      <td>10</td>\n",
       "      <td>18</td>\n",
       "      <td>0</td>\n",
       "      <td>4</td>\n",
       "      <td></td>\n",
       "      <td></td>\n",
       "    </tr>\n",
       "    <tr>\n",
       "      <th>23124</th>\n",
       "      <td>2gKIaMUAXrVgjJBpxbPrSM</td>\n",
       "      <td>Cello Suite No. 3 in C Major, BWV 1009: III. C...</td>\n",
       "      <td>['Johann Sebastian Bach', 'Yo-Yo Ma']</td>\n",
       "      <td>147467</td>\n",
       "      <td>1983</td>\n",
       "      <td>1983</td>\n",
       "      <td>0.935</td>\n",
       "      <td>0.380</td>\n",
       "      <td>0.157</td>\n",
       "      <td>0.802000</td>\n",
       "      <td>0.154</td>\n",
       "      <td>-24.751</td>\n",
       "      <td>0.0483</td>\n",
       "      <td>109.094</td>\n",
       "      <td>0.871</td>\n",
       "      <td>1</td>\n",
       "      <td>7</td>\n",
       "      <td>31</td>\n",
       "      <td>0</td>\n",
       "      <td>4</td>\n",
       "      <td></td>\n",
       "      <td></td>\n",
       "    </tr>\n",
       "    <tr>\n",
       "      <th>27352</th>\n",
       "      <td>7h6rWJPResRa8xkvnJpxqY</td>\n",
       "      <td>Concierto de Aranjuez: I. Allegro con spirito</td>\n",
       "      <td>['Daniel Barenboim', 'John Williams', 'English...</td>\n",
       "      <td>357653</td>\n",
       "      <td>1967</td>\n",
       "      <td>1967</td>\n",
       "      <td>0.925</td>\n",
       "      <td>0.506</td>\n",
       "      <td>0.291</td>\n",
       "      <td>0.879000</td>\n",
       "      <td>0.102</td>\n",
       "      <td>-15.577</td>\n",
       "      <td>0.0331</td>\n",
       "      <td>123.639</td>\n",
       "      <td>0.290</td>\n",
       "      <td>1</td>\n",
       "      <td>2</td>\n",
       "      <td>32</td>\n",
       "      <td>0</td>\n",
       "      <td>4</td>\n",
       "      <td></td>\n",
       "      <td></td>\n",
       "    </tr>\n",
       "    <tr>\n",
       "      <th>33169</th>\n",
       "      <td>1nnxhuI4KGB5EVpqoyrpkQ</td>\n",
       "      <td>Die Borger, Kapitel 16</td>\n",
       "      <td>['Mary Norton', 'Katharina Thalbach']</td>\n",
       "      <td>273467</td>\n",
       "      <td>1952</td>\n",
       "      <td>1952</td>\n",
       "      <td>0.499</td>\n",
       "      <td>0.615</td>\n",
       "      <td>0.350</td>\n",
       "      <td>0.000001</td>\n",
       "      <td>0.271</td>\n",
       "      <td>-20.947</td>\n",
       "      <td>0.9520</td>\n",
       "      <td>60.094</td>\n",
       "      <td>0.566</td>\n",
       "      <td>1</td>\n",
       "      <td>1</td>\n",
       "      <td>3</td>\n",
       "      <td>0</td>\n",
       "      <td>4</td>\n",
       "      <td></td>\n",
       "      <td></td>\n",
       "    </tr>\n",
       "  </tbody>\n",
       "</table>\n",
       "</div>"
      ],
      "text/plain": [
       "                            id  \\\n",
       "152554  19oDwfNgvYD8OzE8j00Zve   \n",
       "121252  0md3dDLRwrsgBQ59CfgmXO   \n",
       "23124   2gKIaMUAXrVgjJBpxbPrSM   \n",
       "27352   7h6rWJPResRa8xkvnJpxqY   \n",
       "33169   1nnxhuI4KGB5EVpqoyrpkQ   \n",
       "\n",
       "                                                     name  \\\n",
       "152554  Verdi : Ernani : Part 4: La maschera \"Elvira!....   \n",
       "121252                            She's Got to Be a Saint   \n",
       "23124   Cello Suite No. 3 in C Major, BWV 1009: III. C...   \n",
       "27352       Concierto de Aranjuez: I. Allegro con spirito   \n",
       "33169                              Die Borger, Kapitel 16   \n",
       "\n",
       "                                                  artists  duration_ms  \\\n",
       "152554  ['Giuseppe Verdi', 'Fernando Previtali', 'Cate...       101160   \n",
       "121252                                      ['Ray Price']       228267   \n",
       "23124               ['Johann Sebastian Bach', 'Yo-Yo Ma']       147467   \n",
       "27352   ['Daniel Barenboim', 'John Williams', 'English...       357653   \n",
       "33169               ['Mary Norton', 'Katharina Thalbach']       273467   \n",
       "\n",
       "       release_date  year  acousticness  danceability  energy  \\\n",
       "152554         1951  1951         0.987         0.327   0.178   \n",
       "121252         1956  1956         0.858         0.414   0.299   \n",
       "23124          1983  1983         0.935         0.380   0.157   \n",
       "27352          1967  1967         0.925         0.506   0.291   \n",
       "33169          1952  1952         0.499         0.615   0.350   \n",
       "\n",
       "        instrumentalness  liveness  loudness  speechiness    tempo  valence  \\\n",
       "152554          0.026900     0.331   -14.580       0.0515   89.860    0.081   \n",
       "121252          0.212000     0.128   -12.293       0.0303   88.516    0.447   \n",
       "23124           0.802000     0.154   -24.751       0.0483  109.094    0.871   \n",
       "27352           0.879000     0.102   -15.577       0.0331  123.639    0.290   \n",
       "33169           0.000001     0.271   -20.947       0.9520   60.094    0.566   \n",
       "\n",
       "        mode  key  popularity  explicit  release_date_length month day  \n",
       "152554     1    7           0         0                    4            \n",
       "121252     1   10          18         0                    4            \n",
       "23124      1    7          31         0                    4            \n",
       "27352      1    2          32         0                    4            \n",
       "33169      1    1           3         0                    4            "
      ]
     },
     "execution_count": 47,
     "metadata": {},
     "output_type": "execute_result"
    }
   ],
   "source": [
    "print(df_04.shape)\n",
    "df_04.sample(5)"
   ]
  },
  {
   "cell_type": "markdown",
   "metadata": {},
   "source": [
    "en este caso no tenemos valores para `month` o para `day`. podemos suponer que el valor que tomará será la moda de los meses de los datos que ya hemos tratado."
   ]
  },
  {
   "cell_type": "code",
   "execution_count": 48,
   "metadata": {},
   "outputs": [
    {
     "data": {
      "text/plain": [
       "'1'"
      ]
     },
     "execution_count": 48,
     "metadata": {},
     "output_type": "execute_result"
    }
   ],
   "source": [
    "moda = pd.concat([df_06, df_07_barra, df_07_guion, df_08], axis = 0)['month'].mode()[0]\n",
    "moda"
   ]
  },
  {
   "cell_type": "code",
   "execution_count": 49,
   "metadata": {},
   "outputs": [
    {
     "name": "stderr",
     "output_type": "stream",
     "text": [
      "C:\\Users\\annas\\AppData\\Local\\Temp\\ipykernel_23844\\1507489564.py:1: SettingWithCopyWarning: \n",
      "A value is trying to be set on a copy of a slice from a DataFrame.\n",
      "Try using .loc[row_indexer,col_indexer] = value instead\n",
      "\n",
      "See the caveats in the documentation: https://pandas.pydata.org/pandas-docs/stable/user_guide/indexing.html#returning-a-view-versus-a-copy\n",
      "  df_04['month'] = moda\n"
     ]
    },
    {
     "data": {
      "text/plain": [
       "1    50382\n",
       "Name: month, dtype: int64"
      ]
     },
     "execution_count": 49,
     "metadata": {},
     "output_type": "execute_result"
    }
   ],
   "source": [
    "df_04['month'] = moda\n",
    "df_04['month'].value_counts()"
   ]
  },
  {
   "cell_type": "code",
   "execution_count": 50,
   "metadata": {},
   "outputs": [
    {
     "name": "stderr",
     "output_type": "stream",
     "text": [
      "C:\\Users\\annas\\AppData\\Local\\Temp\\ipykernel_23844\\2783127687.py:1: SettingWithCopyWarning: \n",
      "A value is trying to be set on a copy of a slice from a DataFrame.\n",
      "Try using .loc[row_indexer,col_indexer] = value instead\n",
      "\n",
      "See the caveats in the documentation: https://pandas.pydata.org/pandas-docs/stable/user_guide/indexing.html#returning-a-view-versus-a-copy\n",
      "  df_04['date'] = '01/' + df_04['month'].astype(str) + '/' + df_04['year'].astype(str)\n"
     ]
    },
    {
     "data": {
      "text/plain": [
       "01/1/1945    1449\n",
       "01/1/1949    1254\n",
       "01/1/1935    1123\n",
       "01/1/1948    1052\n",
       "01/1/1951     986\n",
       "             ... \n",
       "01/1/2014      37\n",
       "01/1/1922      27\n",
       "01/1/2015      12\n",
       "01/1/2016       5\n",
       "01/1/2017       4\n",
       "Name: date, Length: 97, dtype: int64"
      ]
     },
     "execution_count": 50,
     "metadata": {},
     "output_type": "execute_result"
    }
   ],
   "source": [
    "df_04['date'] = '01/' + df_04['month'].astype(str) + '/' + df_04['year'].astype(str)\n",
    "df_04['date'].value_counts()"
   ]
  },
  {
   "cell_type": "markdown",
   "metadata": {},
   "source": [
    "## concat values"
   ]
  },
  {
   "cell_type": "code",
   "execution_count": 51,
   "metadata": {},
   "outputs": [
    {
     "name": "stdout",
     "output_type": "stream",
     "text": [
      "(169907, 24)\n"
     ]
    },
    {
     "data": {
      "text/html": [
       "<div>\n",
       "<style scoped>\n",
       "    .dataframe tbody tr th:only-of-type {\n",
       "        vertical-align: middle;\n",
       "    }\n",
       "\n",
       "    .dataframe tbody tr th {\n",
       "        vertical-align: top;\n",
       "    }\n",
       "\n",
       "    .dataframe thead th {\n",
       "        text-align: right;\n",
       "    }\n",
       "</style>\n",
       "<table border=\"1\" class=\"dataframe\">\n",
       "  <thead>\n",
       "    <tr style=\"text-align: right;\">\n",
       "      <th></th>\n",
       "      <th>id</th>\n",
       "      <th>name</th>\n",
       "      <th>artists</th>\n",
       "      <th>duration_ms</th>\n",
       "      <th>release_date</th>\n",
       "      <th>year</th>\n",
       "      <th>acousticness</th>\n",
       "      <th>danceability</th>\n",
       "      <th>energy</th>\n",
       "      <th>instrumentalness</th>\n",
       "      <th>liveness</th>\n",
       "      <th>loudness</th>\n",
       "      <th>speechiness</th>\n",
       "      <th>tempo</th>\n",
       "      <th>valence</th>\n",
       "      <th>mode</th>\n",
       "      <th>key</th>\n",
       "      <th>popularity</th>\n",
       "      <th>explicit</th>\n",
       "      <th>release_date_length</th>\n",
       "      <th>month</th>\n",
       "      <th>day</th>\n",
       "      <th>date</th>\n",
       "      <th>decade</th>\n",
       "    </tr>\n",
       "  </thead>\n",
       "  <tbody>\n",
       "    <tr>\n",
       "      <th>6</th>\n",
       "      <td>3mdPsKBeXxC4N6oKKZeBNy</td>\n",
       "      <td>\"8\" Teen</td>\n",
       "      <td>['? &amp; The Mysterians']</td>\n",
       "      <td>166693</td>\n",
       "      <td>1966</td>\n",
       "      <td>1966</td>\n",
       "      <td>0.111</td>\n",
       "      <td>0.657</td>\n",
       "      <td>0.872</td>\n",
       "      <td>0.713</td>\n",
       "      <td>0.0857</td>\n",
       "      <td>-7.279</td>\n",
       "      <td>0.0512</td>\n",
       "      <td>136.512</td>\n",
       "      <td>0.738</td>\n",
       "      <td>1</td>\n",
       "      <td>2</td>\n",
       "      <td>17</td>\n",
       "      <td>0</td>\n",
       "      <td>4</td>\n",
       "      <td>1</td>\n",
       "      <td></td>\n",
       "      <td>01/1/1966</td>\n",
       "      <td>NaN</td>\n",
       "    </tr>\n",
       "  </tbody>\n",
       "</table>\n",
       "</div>"
      ],
      "text/plain": [
       "                       id      name                 artists  duration_ms  \\\n",
       "6  3mdPsKBeXxC4N6oKKZeBNy  \"8\" Teen  ['? & The Mysterians']       166693   \n",
       "\n",
       "  release_date  year  acousticness  danceability  energy  instrumentalness  \\\n",
       "6         1966  1966         0.111         0.657   0.872             0.713   \n",
       "\n",
       "   liveness  loudness  speechiness    tempo  valence  mode  key  popularity  \\\n",
       "6    0.0857    -7.279       0.0512  136.512    0.738     1    2          17   \n",
       "\n",
       "   explicit  release_date_length month day       date decade  \n",
       "6         0                    4     1      01/1/1966    NaN  "
      ]
     },
     "execution_count": 51,
     "metadata": {},
     "output_type": "execute_result"
    }
   ],
   "source": [
    "df_fixed = pd.concat([df_04, df_06, df_07_barra, df_07_guion, df_08])\n",
    "print(df_fixed.shape)\n",
    "df_fixed.head(1)"
   ]
  },
  {
   "cell_type": "code",
   "execution_count": 57,
   "metadata": {},
   "outputs": [
    {
     "data": {
      "text/plain": [
       "id                             object\n",
       "name                           object\n",
       "artists                        object\n",
       "duration_ms                     int64\n",
       "release_date                   object\n",
       "year                            int64\n",
       "acousticness                  float64\n",
       "danceability                  float64\n",
       "energy                        float64\n",
       "instrumentalness              float64\n",
       "liveness                      float64\n",
       "loudness                      float64\n",
       "speechiness                   float64\n",
       "tempo                         float64\n",
       "valence                       float64\n",
       "mode                            int64\n",
       "key                             int64\n",
       "popularity                      int64\n",
       "explicit                        int64\n",
       "release_date_length             int64\n",
       "month                           int64\n",
       "day                             int64\n",
       "date                   datetime64[ns]\n",
       "decade                          int64\n",
       "dtype: object"
      ]
     },
     "execution_count": 57,
     "metadata": {},
     "output_type": "execute_result"
    }
   ],
   "source": [
    "df_fixed['date'] = pd.to_datetime(df_fixed['date'], dayfirst=True)\n",
    "df_fixed['day'] = df_fixed['date'].dt.day\n",
    "df_fixed['month'] = df_fixed['date'].dt.month\n",
    "df_fixed['decade'] = df_fixed['date'].dt.year - (df_fixed['date'].dt.year %10)\n",
    "df_fixed.dtypes"
   ]
  },
  {
   "cell_type": "code",
   "execution_count": 58,
   "metadata": {},
   "outputs": [
    {
     "data": {
      "text/plain": [
       "1960    20000\n",
       "1980    20000\n",
       "1990    20000\n",
       "2000    20000\n",
       "1970    19998\n",
       "1950    19950\n",
       "2010    19900\n",
       "1940    14968\n",
       "1930     8889\n",
       "1920     4446\n",
       "2020     1756\n",
       "Name: decade, dtype: int64"
      ]
     },
     "execution_count": 58,
     "metadata": {},
     "output_type": "execute_result"
    }
   ],
   "source": [
    "df_fixed['decade'].value_counts()"
   ]
  }
 ],
 "metadata": {
  "kernelspec": {
   "display_name": "Python 3.9.13 ('iron')",
   "language": "python",
   "name": "python3"
  },
  "language_info": {
   "codemirror_mode": {
    "name": "ipython",
    "version": 3
   },
   "file_extension": ".py",
   "mimetype": "text/x-python",
   "name": "python",
   "nbconvert_exporter": "python",
   "pygments_lexer": "ipython3",
   "version": "3.9.13"
  },
  "orig_nbformat": 4,
  "vscode": {
   "interpreter": {
    "hash": "e59d0b279e6461be5b4ea7b62838527cd8f41f3cbc9a1147b1a83b32d75ab689"
   }
  }
 },
 "nbformat": 4,
 "nbformat_minor": 2
}
